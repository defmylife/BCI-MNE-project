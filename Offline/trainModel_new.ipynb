{
 "cells": [
  {
   "attachments": {},
   "cell_type": "markdown",
   "metadata": {},
   "source": [
    "## **Import Libraries**"
   ]
  },
  {
   "cell_type": "code",
   "execution_count": 173,
   "metadata": {},
   "outputs": [],
   "source": [
    "import mne\n",
    "\n",
    "# Utility\n",
    "import pandas as pd\n",
    "import numpy as np\n",
    "import matplotlib.pyplot as plt\n",
    "import tensorflow as tf\n",
    "import seaborn as sns\n",
    "import os\n",
    "%matplotlib inline\n",
    "import warnings\n",
    "warnings.filterwarnings('ignore')\n",
    "from tqdm.auto import tqdm\n",
    "\n",
    "from utilities import read_xdf, epoching\n",
    "\n",
    "np.random.seed(42)"
   ]
  },
  {
   "cell_type": "code",
   "execution_count": 174,
   "metadata": {},
   "outputs": [],
   "source": [
    "# Train model\n",
    "from collections import OrderedDict\n",
    "from keras.callbacks import EarlyStopping\n",
    "from keras.callbacks import ModelCheckpoint\n",
    "from time import time\n",
    "from datetime import timedelta\n",
    "import keras\n",
    "from keras.models import load_model\n",
    "import os\n",
    "from keras.utils import plot_model\n",
    "\n",
    "# Build model\n",
    "from keras.models import Sequential, Model\n",
    "from keras.layers import Embedding, Reshape, Activation, Input, Dense,GRU,Reshape,TimeDistributed,Bidirectional,Dropout,Masking,LSTM, GlobalAveragePooling1D, Conv1D, MaxPooling1D, Flatten,GlobalMaxPooling1D\n",
    "from keras.layers import Concatenate, Lambda, Reshape, RepeatVector,Multiply, BatchNormalization\n",
    "from keras.optimizers import Adam\n",
    "from keras import backend as K                                                          \n",
    "from keras.callbacks import ModelCheckpoint, TensorBoard\n",
    "from sklearn.pipeline import make_pipeline\n",
    "from sklearn.linear_model import LogisticRegression\n",
    "from sklearn.preprocessing import StandardScaler\n",
    "from sklearn.discriminant_analysis import LinearDiscriminantAnalysis as LDA\n",
    "from pyriemann.estimation import Covariances, ERPCovariances, XdawnCovariances\n",
    "from pyriemann.spatialfilters import CSP\n",
    "from pyriemann.tangentspace import TangentSpace\n",
    "from pyriemann.classification import MDM\n",
    "\n",
    "# Classifications report\n",
    "from sklearn.metrics import classification_report, confusion_matrix, ConfusionMatrixDisplay ,multilabel_confusion_matrix, accuracy_score\n",
    "from sklearn.model_selection import cross_validate, cross_val_score, StratifiedShuffleSplit"
   ]
  },
  {
   "attachments": {},
   "cell_type": "markdown",
   "metadata": {},
   "source": [
    "## **Load Data**"
   ]
  },
  {
   "attachments": {},
   "cell_type": "markdown",
   "metadata": {},
   "source": [
    "### From XDF file"
   ]
  },
  {
   "cell_type": "code",
   "execution_count": 175,
   "metadata": {},
   "outputs": [],
   "source": [
    "annotations_des = {\n",
    "    '1': 'Left cue start',\n",
    "    '2': 'Left stimuli start',\n",
    "    '3': 'Left blank start',\n",
    "    '4': 'Right cue start',\n",
    "    '5': 'Right stimuli start',\n",
    "    '6': 'Right blank start',\n",
    "}"
   ]
  },
  {
   "cell_type": "code",
   "execution_count": 176,
   "metadata": {},
   "outputs": [
    {
     "name": "stdout",
     "output_type": "stream",
     "text": [
      "Creating RawArray with float64 data, n_channels=8, n_times=49650\n",
      "    Range : 0 ... 49649 =      0.000 ...   198.521 secs\n",
      "Ready.\n",
      "Filtering raw data in 1 contiguous segment\n",
      "Setting up band-pass filter from 4 - 12 Hz\n",
      "\n",
      "FIR filter parameters\n",
      "---------------------\n",
      "Designing a one-pass, zero-phase, non-causal bandpass filter:\n",
      "- Windowed time-domain design (firwin) method\n",
      "- Hamming window with 0.0194 passband ripple and 53 dB stopband attenuation\n",
      "- Lower passband edge: 4.00\n",
      "- Lower transition bandwidth: 2.00 Hz (-6 dB cutoff frequency: 3.00 Hz)\n",
      "- Upper passband edge: 12.00 Hz\n",
      "- Upper transition bandwidth: 3.00 Hz (-6 dB cutoff frequency: 13.50 Hz)\n",
      "- Filter length: 413 samples (1.651 s)\n",
      "\n"
     ]
    },
    {
     "name": "stderr",
     "output_type": "stream",
     "text": [
      "[Parallel(n_jobs=1)]: Using backend SequentialBackend with 1 concurrent workers.\n",
      "[Parallel(n_jobs=1)]: Done   1 out of   1 | elapsed:    0.0s remaining:    0.0s\n",
      "[Parallel(n_jobs=1)]: Done   2 out of   2 | elapsed:    0.0s remaining:    0.0s\n",
      "[Parallel(n_jobs=1)]: Done   3 out of   3 | elapsed:    0.0s remaining:    0.0s\n",
      "[Parallel(n_jobs=1)]: Done   4 out of   4 | elapsed:    0.0s remaining:    0.0s\n",
      "[Parallel(n_jobs=1)]: Done   8 out of   8 | elapsed:    0.0s finished\n"
     ]
    }
   ],
   "source": [
    "raw = read_xdf('Pipo_1_5_test1.xdf', show_plot=False, show_psd=False, bandpass=(4.0, 12.0))"
   ]
  },
  {
   "cell_type": "code",
   "execution_count": 177,
   "metadata": {},
   "outputs": [
    {
     "name": "stdout",
     "output_type": "stream",
     "text": [
      "Creating RawArray with float64 data, n_channels=8, n_times=52020\n",
      "    Range : 0 ... 52019 =      0.000 ...   208.006 secs\n",
      "Ready.\n",
      "Filtering raw data in 1 contiguous segment\n",
      "Setting up band-pass filter from 4 - 12 Hz\n",
      "\n",
      "FIR filter parameters\n",
      "---------------------\n",
      "Designing a one-pass, zero-phase, non-causal bandpass filter:\n",
      "- Windowed time-domain design (firwin) method\n",
      "- Hamming window with 0.0194 passband ripple and 53 dB stopband attenuation\n",
      "- Lower passband edge: 4.00\n",
      "- Lower transition bandwidth: 2.00 Hz (-6 dB cutoff frequency: 3.00 Hz)\n",
      "- Upper passband edge: 12.00 Hz\n",
      "- Upper transition bandwidth: 3.00 Hz (-6 dB cutoff frequency: 13.50 Hz)\n",
      "- Filter length: 413 samples (1.651 s)\n",
      "\n",
      "NOTE: pick_channels() is a legacy function. New code should use inst.pick(...).\n",
      "Used Annotations descriptions: ['1', '2', '3', '4', '5', '6']\n",
      "Not setting metadata\n",
      "48 matching events found\n",
      "Applying baseline correction (mode: mean)\n",
      "0 projection items activated\n",
      "Using data from preloaded Raw for 48 events and 1251 original time points ...\n",
      "0 bad epochs dropped\n",
      "Effective window size : 5.002 (s)\n",
      "NOTE: pick_channels() is a legacy function. New code should use inst.pick(...).\n",
      "Used Annotations descriptions: ['1', '2', '3', '4', '5', '6']\n",
      "Not setting metadata\n",
      "48 matching events found\n",
      "Applying baseline correction (mode: mean)\n",
      "0 projection items activated\n",
      "Using data from preloaded Raw for 48 events and 1252 original time points ...\n",
      "0 bad epochs dropped\n",
      "Effective window size : 5.006 (s)\n"
     ]
    },
    {
     "name": "stderr",
     "output_type": "stream",
     "text": [
      "[Parallel(n_jobs=1)]: Using backend SequentialBackend with 1 concurrent workers.\n",
      "[Parallel(n_jobs=1)]: Done   1 out of   1 | elapsed:    0.0s remaining:    0.0s\n",
      "[Parallel(n_jobs=1)]: Done   2 out of   2 | elapsed:    0.0s remaining:    0.0s\n",
      "[Parallel(n_jobs=1)]: Done   3 out of   3 | elapsed:    0.0s remaining:    0.0s\n",
      "[Parallel(n_jobs=1)]: Done   4 out of   4 | elapsed:    0.0s remaining:    0.0s\n",
      "[Parallel(n_jobs=1)]: Done   8 out of   8 | elapsed:    0.0s finished\n"
     ]
    },
    {
     "name": "stdout",
     "output_type": "stream",
     "text": [
      "Creating RawArray with float64 data, n_channels=8, n_times=49650\n",
      "    Range : 0 ... 49649 =      0.000 ...   198.521 secs\n",
      "Ready.\n",
      "Filtering raw data in 1 contiguous segment\n",
      "Setting up band-pass filter from 4 - 12 Hz\n",
      "\n",
      "FIR filter parameters\n",
      "---------------------\n",
      "Designing a one-pass, zero-phase, non-causal bandpass filter:\n",
      "- Windowed time-domain design (firwin) method\n",
      "- Hamming window with 0.0194 passband ripple and 53 dB stopband attenuation\n",
      "- Lower passband edge: 4.00\n",
      "- Lower transition bandwidth: 2.00 Hz (-6 dB cutoff frequency: 3.00 Hz)\n",
      "- Upper passband edge: 12.00 Hz\n",
      "- Upper transition bandwidth: 3.00 Hz (-6 dB cutoff frequency: 13.50 Hz)\n",
      "- Filter length: 413 samples (1.651 s)\n",
      "\n",
      "NOTE: pick_channels() is a legacy function. New code should use inst.pick(...).\n",
      "Used Annotations descriptions: ['1', '2', '3', '4', '5', '6']\n",
      "Not setting metadata\n",
      "48 matching events found\n",
      "Applying baseline correction (mode: mean)\n",
      "0 projection items activated\n",
      "Using data from preloaded Raw for 48 events and 1251 original time points ...\n",
      "1 bad epochs dropped\n",
      "Effective window size : 5.002 (s)\n",
      "NOTE: pick_channels() is a legacy function. New code should use inst.pick(...).\n",
      "Used Annotations descriptions: ['1', '2', '3', '4', '5', '6']\n",
      "Not setting metadata\n",
      "48 matching events found\n",
      "Applying baseline correction (mode: mean)\n",
      "0 projection items activated\n",
      "Using data from preloaded Raw for 48 events and 1252 original time points ...\n",
      "1 bad epochs dropped\n",
      "Effective window size : 5.006 (s)\n"
     ]
    },
    {
     "name": "stderr",
     "output_type": "stream",
     "text": [
      "[Parallel(n_jobs=1)]: Using backend SequentialBackend with 1 concurrent workers.\n",
      "[Parallel(n_jobs=1)]: Done   1 out of   1 | elapsed:    0.0s remaining:    0.0s\n",
      "[Parallel(n_jobs=1)]: Done   2 out of   2 | elapsed:    0.0s remaining:    0.0s\n",
      "[Parallel(n_jobs=1)]: Done   3 out of   3 | elapsed:    0.0s remaining:    0.0s\n",
      "[Parallel(n_jobs=1)]: Done   4 out of   4 | elapsed:    0.0s remaining:    0.0s\n",
      "[Parallel(n_jobs=1)]: Done   8 out of   8 | elapsed:    0.0s finished\n"
     ]
    },
    {
     "name": "stdout",
     "output_type": "stream",
     "text": [
      "Creating RawArray with float64 data, n_channels=8, n_times=50520\n",
      "    Range : 0 ... 50519 =      0.000 ...   201.994 secs\n",
      "Ready.\n",
      "Filtering raw data in 1 contiguous segment\n",
      "Setting up band-pass filter from 4 - 12 Hz\n",
      "\n",
      "FIR filter parameters\n",
      "---------------------\n",
      "Designing a one-pass, zero-phase, non-causal bandpass filter:\n",
      "- Windowed time-domain design (firwin) method\n",
      "- Hamming window with 0.0194 passband ripple and 53 dB stopband attenuation\n",
      "- Lower passband edge: 4.00\n",
      "- Lower transition bandwidth: 2.00 Hz (-6 dB cutoff frequency: 3.00 Hz)\n",
      "- Upper passband edge: 12.00 Hz\n",
      "- Upper transition bandwidth: 3.00 Hz (-6 dB cutoff frequency: 13.50 Hz)\n",
      "- Filter length: 413 samples (1.651 s)\n",
      "\n",
      "NOTE: pick_channels() is a legacy function. New code should use inst.pick(...).\n",
      "Used Annotations descriptions: ['1', '2', '3', '4', '5', '6']\n",
      "Not setting metadata\n",
      "48 matching events found\n",
      "Applying baseline correction (mode: mean)\n",
      "0 projection items activated\n",
      "Using data from preloaded Raw for 48 events and 1252 original time points ...\n",
      "0 bad epochs dropped\n",
      "Effective window size : 5.006 (s)\n",
      "NOTE: pick_channels() is a legacy function. New code should use inst.pick(...).\n",
      "Used Annotations descriptions: ['1', '2', '3', '4', '5', '6']\n",
      "Not setting metadata\n",
      "48 matching events found\n",
      "Applying baseline correction (mode: mean)\n",
      "0 projection items activated\n",
      "Using data from preloaded Raw for 48 events and 1251 original time points ...\n",
      "1 bad epochs dropped\n",
      "Effective window size : 5.002 (s)\n"
     ]
    },
    {
     "name": "stderr",
     "output_type": "stream",
     "text": [
      "[Parallel(n_jobs=1)]: Using backend SequentialBackend with 1 concurrent workers.\n",
      "[Parallel(n_jobs=1)]: Done   1 out of   1 | elapsed:    0.0s remaining:    0.0s\n",
      "[Parallel(n_jobs=1)]: Done   2 out of   2 | elapsed:    0.0s remaining:    0.0s\n",
      "[Parallel(n_jobs=1)]: Done   3 out of   3 | elapsed:    0.0s remaining:    0.0s\n",
      "[Parallel(n_jobs=1)]: Done   4 out of   4 | elapsed:    0.0s remaining:    0.0s\n",
      "[Parallel(n_jobs=1)]: Done   8 out of   8 | elapsed:    0.0s finished\n"
     ]
    }
   ],
   "source": [
    "from utilities import read_xdf, epoching\n",
    "\n",
    "filenames = {'Pipo_1_5_test1.xdf', 'Pipo_1_5_test2.xdf', 'Pipo_1_5_test3.xdf'}\n",
    "\n",
    "X, F, t, y = [],[],[],[]\n",
    "for filename in filenames:\n",
    "\n",
    "    raw = read_xdf(filename, show_plot=False, show_psd=False, bandpass=(4.0, 12.0))\n",
    "\n",
    "    epochs = epoching(raw, show_psd=False,\n",
    "        show_eeg=False,  # set True if wanna see preview of all epoch\n",
    "        tmax=5)         # tmax=5 means set epoch duration 5 second\n",
    "\n",
    "    # Pick only event 2: Left stimuli, 5: Right stimuli\n",
    "    epochs = epochs['2','5']\n",
    "\n",
    "    X.append((  epochs.get_data() * 1e6)[:,:,:1250]) # select only first 1250 frames(approx 5 second)\n",
    "    F.append(   epochs.compute_psd(method='welch', fmax=30).get_data())\n",
    "    t.append((  epochs.times)[:1250])                # select only first 1250 frames(approx 5 second)\n",
    "    y.append(   epochs.events[:, -1])\n",
    "\n",
    "    epochs = epoching(raw, show_psd=False,\n",
    "        show_eeg=False,  # set True if wanna see preview of all epoch\n",
    "        baseline=(5,10),\n",
    "        tmin=5,\n",
    "        tmax=10)         # tmax=5 means set epoch duration 5 second\n",
    "\n",
    "    # Pick only event 2: Left stimuli, 5: Right stimuli\n",
    "    epochs = epochs['2','5']\n",
    "\n",
    "    X.append((  epochs.get_data() * 1e6)[:,:,:1250]) # select only first 1250 frames(approx 5 second)\n",
    "    F.append(   epochs.compute_psd(method='welch', fmax=30).get_data())\n",
    "    t.append((  epochs.times)[:1250])                # select only first 1250 frames(approx 5 second)\n",
    "    y.append(   epochs.events[:, -1])\n",
    "\n",
    "# Concatenate all data\n",
    "X = np.concatenate(X)\n",
    "F = np.concatenate(F)\n",
    "t = np.concatenate(t)\n",
    "y = np.concatenate(y)"
   ]
  },
  {
   "cell_type": "code",
   "execution_count": 178,
   "metadata": {},
   "outputs": [
    {
     "data": {
      "text/plain": [
       "((96, 5, 1250), (96, 5, 151), (7500,), (96,))"
      ]
     },
     "execution_count": 178,
     "metadata": {},
     "output_type": "execute_result"
    }
   ],
   "source": [
    "X.shape, F.shape, t.shape, y.shape"
   ]
  },
  {
   "cell_type": "code",
   "execution_count": 197,
   "metadata": {},
   "outputs": [
    {
     "data": {
      "text/plain": [
       "array([[[        0.        ,    124091.2310227 ,    323308.34791588,\n",
       "         ...,  -4975084.78529112,  -3059847.69116265,\n",
       "          -1047095.02941039],\n",
       "        [        0.        ,    418609.94358085,    940088.79752828,\n",
       "         ..., -10072812.18093242,  -8047836.52447013,\n",
       "          -5561649.86459834],\n",
       "        [        0.        ,    426263.43128802,    866387.8060909 ,\n",
       "         ..., -10919335.50152572,  -8753718.34647588,\n",
       "          -6169341.03457228],\n",
       "        [        0.        ,    497176.15056236,   1008507.15964988,\n",
       "         ...,  -1775864.65169888,   -310554.63368498,\n",
       "           1083292.14041824],\n",
       "        [        0.        ,    302119.78783984,    744102.79333782,\n",
       "         ...,   8616879.07350387,   8855043.33130038,\n",
       "           8761922.52372198]],\n",
       "\n",
       "       [[        0.        ,   1292517.61559799,   2582534.37223891,\n",
       "         ...,  -1652824.92502735,   -914425.33198587,\n",
       "             98160.95319505],\n",
       "        [        0.        ,   1390323.51531964,   2905248.66812871,\n",
       "         ...,    206882.05494247,   1736107.54363628,\n",
       "           3557896.87700183],\n",
       "        [        0.        ,   1092761.41055014,   2335763.1599209 ,\n",
       "         ...,    -26550.07626079,    636688.5636136 ,\n",
       "           1711468.67730828],\n",
       "        [        0.        ,    972871.58835405,   1918135.13525704,\n",
       "         ...,  -1372917.65749036,  -1678818.75179159,\n",
       "          -1683130.97899759],\n",
       "        [        0.        ,    320953.466318  ,    468949.09839986,\n",
       "         ...,  -6299531.57417227,  -7154929.41808753,\n",
       "          -7770650.45786841]],\n",
       "\n",
       "       [[        0.        ,   2572817.0573684 ,   5149266.3250146 ,\n",
       "         ...,  10619393.7846261 ,  10428022.11120905,\n",
       "           9792867.34551995],\n",
       "        [        0.        ,   2512222.14021015,   4987243.61970125,\n",
       "         ...,    108504.07291478,      7557.07983886,\n",
       "             -5335.31746636],\n",
       "        [        0.        ,   2948877.69957676,   5623828.93232034,\n",
       "         ...,  -1067637.76630739,   -805036.51015876,\n",
       "           -524150.65203765],\n",
       "        [        0.        ,   1202030.03993992,   2364482.01064837,\n",
       "         ...,   4966253.49329357,   3993097.70235615,\n",
       "           2727334.41441116],\n",
       "        [        0.        ,    193065.02570746,    511557.73049229,\n",
       "         ...,   9621055.32546939,   8006994.05666437,\n",
       "           5877700.06702503]],\n",
       "\n",
       "       ...,\n",
       "\n",
       "       [[ 10996548.3588439 ,   7540255.7994812 ,   3278564.18808025,\n",
       "         ...,  -3507973.54870935,  -1896174.44638593,\n",
       "           -268261.17598202],\n",
       "        [  7003887.49010707,   4605188.93208027,   1359516.79162081,\n",
       "         ...,  -5327204.51454121,  -4200673.55337968,\n",
       "          -3043788.56251878],\n",
       "        [  4023924.20188615,   2081068.47932279,   -542210.81557743,\n",
       "         ...,  -5701956.80190135,  -4731646.23269164,\n",
       "          -3875332.31640146],\n",
       "        [  4094106.80862664,   2610641.00310751,    739792.74535934,\n",
       "         ...,  -6330175.77826582,  -4971017.73461752,\n",
       "          -3438626.5083718 ],\n",
       "        [  2407828.6964103 ,   1602145.5613291 ,    793394.93733629,\n",
       "         ...,  -4114414.90861333,  -3044328.38447328,\n",
       "          -1739161.78547936]],\n",
       "\n",
       "       [[ 13450611.63167108,  10966604.14079528,   7813512.00483576,\n",
       "         ...,   6577484.07716642,   7447143.43339751,\n",
       "           7651833.12282461],\n",
       "        [ 11791773.67791001,   9137807.66601899,   5766953.14530576,\n",
       "         ...,   5226344.55297242,   5065241.00184348,\n",
       "           4402015.05740278],\n",
       "        [ 10570157.20502086,   8350991.10954225,   5262679.71571515,\n",
       "         ...,   5522147.87344232,   4654273.56710739,\n",
       "           3366923.99932344],\n",
       "        [  8775485.54983841,   6940054.67518784,   4774446.43934915,\n",
       "         ...,   5037181.91862621,   4825473.1353459 ,\n",
       "           4135493.84074287],\n",
       "        [  6976892.5878602 ,   5079892.3976673 ,   3298658.69738629,\n",
       "         ...,   4969502.73333285,   4773650.15133288,\n",
       "           4117410.72283386]],\n",
       "\n",
       "       [[   281858.56599345,  -1785020.05665671,  -3799287.56838358,\n",
       "         ...,   4061842.27960026,   2740839.49767906,\n",
       "           1578543.39097872],\n",
       "        [ -4465799.66374692,  -7584471.34567201, -10263250.94952234,\n",
       "         ...,   7591363.37413212,   6310295.56668735,\n",
       "           4902787.6926198 ],\n",
       "        [ -4439810.94805787,  -7228388.74993301,  -9591581.26054087,\n",
       "         ...,   6438052.71376613,   5711628.66956577,\n",
       "           4857257.86998813],\n",
       "        [ -2626233.65279424,  -4288631.13405742,  -5753145.20045677,\n",
       "         ...,   3111599.83017837,   1882036.49480817,\n",
       "            839343.31278485],\n",
       "        [ -4860133.57326906,  -5289052.1517496 ,  -5469381.81312371,\n",
       "         ...,    662622.64067744,  -1093696.34056935,\n",
       "          -2559191.1214065 ]]])"
      ]
     },
     "execution_count": 197,
     "metadata": {},
     "output_type": "execute_result"
    }
   ],
   "source": [
    "X"
   ]
  },
  {
   "cell_type": "code",
   "execution_count": 179,
   "metadata": {},
   "outputs": [],
   "source": [
    "from mne.decoding import Scaler\n",
    "scaler = Scaler(scalings='mean')\n",
    "X_norm = scaler.fit_transform(X)"
   ]
  },
  {
   "cell_type": "code",
   "execution_count": 195,
   "metadata": {},
   "outputs": [
    {
     "data": {
      "text/plain": [
       "(96, 5, 1250)"
      ]
     },
     "execution_count": 195,
     "metadata": {},
     "output_type": "execute_result"
    }
   ],
   "source": [
    "X_norm.shape"
   ]
  },
  {
   "cell_type": "code",
   "execution_count": 196,
   "metadata": {},
   "outputs": [
    {
     "data": {
      "text/plain": [
       "array([[[ 0.05485012,  0.06789522,  0.08883792, ..., -0.46815572,\n",
       "         -0.2668164 , -0.05522575],\n",
       "        [ 0.01377982,  0.0571767 ,  0.1112379 , ..., -1.03045872,\n",
       "         -0.82053148, -0.56279095],\n",
       "        [-0.0023031 ,  0.04502083,  0.09388361, ..., -1.21457198,\n",
       "         -0.97414432, -0.68722575],\n",
       "        [-0.03532738,  0.033687  ,  0.10466624, ..., -0.28183998,\n",
       "         -0.07843631,  0.11504735],\n",
       "        [-0.10100238, -0.05823762,  0.00432465, ...,  1.11870855,\n",
       "          1.15242047,  1.13923931]],\n",
       "\n",
       "       [[ 0.05485012,  0.19072605,  0.32633908, ..., -0.11890312,\n",
       "         -0.04127885,  0.06516929],\n",
       "        [ 0.01377982,  0.15791329,  0.3149641 , ...,  0.03522708,\n",
       "          0.19376038,  0.38262349],\n",
       "        [-0.0023031 ,  0.11901569,  0.25701423, ..., -0.0052507 ,\n",
       "          0.06838231,  0.18770481],\n",
       "        [-0.03532738,  0.09971957,  0.23093417, ..., -0.22590581,\n",
       "         -0.26836877, -0.26896736],\n",
       "        [-0.10100238, -0.05557173, -0.03462309, ..., -0.992695  ,\n",
       "         -1.11377574, -1.20093046]],\n",
       "\n",
       "       [[ 0.05485012,  0.32531755,  0.59616681, ...,  1.17121402,\n",
       "          1.15109607,  1.08432542],\n",
       "        [ 0.01377982,  0.27421942,  0.53080247, ...,  0.02502833,\n",
       "          0.01456326,  0.01322671],\n",
       "        [-0.0023031 ,  0.32508245,  0.62205657, ..., -0.12083266,\n",
       "         -0.09167857, -0.06049451],\n",
       "        [-0.03532738,  0.13152968,  0.2928928 , ...,  0.65405177,\n",
       "          0.51896537,  0.34326132],\n",
       "        [-0.10100238, -0.07367421, -0.02859188, ...,  1.26084873,\n",
       "          1.03237991,  0.7309804 ]],\n",
       "\n",
       "       ...,\n",
       "\n",
       "       [[ 1.2108624 ,  0.84751961,  0.39950922, ..., -0.31392564,\n",
       "         -0.14448524,  0.02664916],\n",
       "        [ 0.73986595,  0.49119523,  0.15471959, ..., -0.53848623,\n",
       "         -0.42169988, -0.30176675],\n",
       "        [ 0.44443453,  0.22873793, -0.06249956, ..., -0.63533657,\n",
       "         -0.52761231, -0.43254401],\n",
       "        [ 0.53298672,  0.3270628 ,  0.06736526, ..., -0.91403628,\n",
       "         -0.72536786, -0.51265247],\n",
       "        [ 0.23982345,  0.12577978,  0.01130191, ..., -0.68339385,\n",
       "         -0.53192413, -0.34717906]],\n",
       "\n",
       "       [[ 1.46884583,  1.20771452,  0.87624567, ...,  0.74630822,\n",
       "          0.83773117,  0.85924917],\n",
       "        [ 1.23622141,  0.96108736,  0.61163419, ...,  0.55558982,\n",
       "          0.53888838,  0.4701324 ],\n",
       "        [ 1.17119986,  0.92482718,  0.58196164, ...,  0.6107679 ,\n",
       "          0.51441616,  0.37149411],\n",
       "        [ 1.18282162,  0.92804047,  0.62742651, ...,  0.66389753,\n",
       "          0.63450966,  0.53873176],\n",
       "        [ 0.88657004,  0.61805149,  0.36591958, ...,  0.60242594,\n",
       "          0.5747032 ,  0.48181314]],\n",
       "\n",
       "       [[ 0.08448051, -0.13280013, -0.34455003, ...,  0.48185134,\n",
       "          0.34298091,  0.22079452],\n",
       "        [-0.44918524, -0.77249487, -1.05020132, ...,  0.800769  ,\n",
       "          0.66796196,  0.522047  ],\n",
       "        [-0.49521264, -0.80480163, -1.06716419, ...,  0.71245201,\n",
       "          0.63180413,  0.53695155],\n",
       "        [-0.39988201, -0.63064392, -0.8339371 , ...,  0.39660225,\n",
       "          0.22592322,  0.08118415],\n",
       "        [-0.7889496 , -0.84966262, -0.87518811, ..., -0.00720878,\n",
       "         -0.25581404, -0.46325342]]])"
      ]
     },
     "execution_count": 196,
     "metadata": {},
     "output_type": "execute_result"
    }
   ],
   "source": [
    "X_norm"
   ]
  },
  {
   "cell_type": "code",
   "execution_count": 180,
   "metadata": {},
   "outputs": [],
   "source": [
    "# One hot encoding\n",
    "from sklearn.preprocessing import OneHotEncoder\n",
    "\n",
    "# enc = OneHotEncoder()\n",
    "# Y = enc.fit_transform(y.reshape(-1, 1)).toarray()\n",
    "Y = y.copy()\n",
    "mp = {2:0, 5:1}\n",
    "for i in range(len(Y)):\n",
    "    Y[i] = mp[Y[i]]"
   ]
  },
  {
   "cell_type": "code",
   "execution_count": 181,
   "metadata": {},
   "outputs": [
    {
     "data": {
      "text/plain": [
       "((96, 5, 1250), (96, 5, 151), (7500,), (96,))"
      ]
     },
     "execution_count": 181,
     "metadata": {},
     "output_type": "execute_result"
    }
   ],
   "source": [
    "X_norm.shape, F.shape, t.shape, Y.shape"
   ]
  },
  {
   "attachments": {},
   "cell_type": "markdown",
   "metadata": {},
   "source": [
    "## **Training pipeline**"
   ]
  },
  {
   "attachments": {},
   "cell_type": "markdown",
   "metadata": {},
   "source": [
    "### Train Test Split"
   ]
  },
  {
   "cell_type": "code",
   "execution_count": 182,
   "metadata": {},
   "outputs": [],
   "source": [
    "from sklearn.model_selection import train_test_split"
   ]
  },
  {
   "cell_type": "code",
   "execution_count": 183,
   "metadata": {},
   "outputs": [],
   "source": [
    "X_train_CNN, X_test_CNN, y_train_CNN, y_test_CNN = train_test_split(X_norm, Y, test_size=0.2, random_state=42)\n",
    "\n",
    "X_train_CNN = tf.convert_to_tensor(X_train_CNN, dtype=tf.float32)\n",
    "X_test_CNN = tf.convert_to_tensor(X_test_CNN, dtype=tf.float32)\n",
    "y_train_CNN = tf.convert_to_tensor(y_train_CNN, dtype=tf.int32)\n",
    "y_test_CNN = tf.convert_to_tensor(y_test_CNN, dtype=tf.int32)"
   ]
  },
  {
   "attachments": {},
   "cell_type": "markdown",
   "metadata": {},
   "source": [
    "### **Create a model**"
   ]
  },
  {
   "cell_type": "code",
   "execution_count": 184,
   "metadata": {},
   "outputs": [],
   "source": [
    "from models import CNNModel"
   ]
  },
  {
   "cell_type": "code",
   "execution_count": 185,
   "metadata": {},
   "outputs": [
    {
     "name": "stdout",
     "output_type": "stream",
     "text": [
      "Model: \"CNNModel\"\n",
      "_________________________________________________________________\n",
      " Layer (type)                Output Shape              Param #   \n",
      "=================================================================\n",
      " input_layer (InputLayer)    [(None, 5, 1250)]         0         \n",
      "                                                                 \n",
      " conv1d_6 (Conv1D)           (None, 3, 128)            480128    \n",
      "                                                                 \n",
      " batch_norm_layer1 (BatchNor  (None, 3, 128)           512       \n",
      " malization)                                                     \n",
      "                                                                 \n",
      " maxpool_layer1 (MaxPooling1  (None, 1, 128)           0         \n",
      " D)                                                              \n",
      "                                                                 \n",
      " dropout_layer1 (Dropout)    (None, 1, 128)            0         \n",
      "                                                                 \n",
      " dense_layer1 (Dense)        (None, 1, 64)             8256      \n",
      "                                                                 \n",
      " fatten_layer1 (Flatten)     (None, 64)                0         \n",
      "                                                                 \n",
      " dropout_layer2 (Dropout)    (None, 64)                0         \n",
      "                                                                 \n",
      " dense_layer2 (Dense)        (None, 32)                2080      \n",
      "                                                                 \n",
      " output_layer (Dense)        (None, 1)                 33        \n",
      "                                                                 \n",
      "=================================================================\n",
      "Total params: 491,009\n",
      "Trainable params: 490,753\n",
      "Non-trainable params: 256\n",
      "_________________________________________________________________\n"
     ]
    }
   ],
   "source": [
    "CNN = CNNModel()\n",
    "CNN.model.summary()"
   ]
  },
  {
   "cell_type": "code",
   "execution_count": 186,
   "metadata": {},
   "outputs": [
    {
     "name": "stdout",
     "output_type": "stream",
     "text": [
      "Epoch 1/5\n",
      "19/19 [==============================] - 1s 8ms/step - loss: 0.7167 - accuracy: 0.6974\n",
      "Epoch 2/5\n",
      "19/19 [==============================] - 0s 7ms/step - loss: 0.2647 - accuracy: 0.9211\n",
      "Epoch 3/5\n",
      "19/19 [==============================] - 0s 8ms/step - loss: 0.1658 - accuracy: 0.9868\n",
      "Epoch 4/5\n",
      "19/19 [==============================] - 0s 8ms/step - loss: 0.1560 - accuracy: 0.9342\n",
      "Epoch 5/5\n",
      "19/19 [==============================] - 0s 8ms/step - loss: 0.2322 - accuracy: 0.9079\n"
     ]
    }
   ],
   "source": [
    "CNN.model_train(X_train_CNN, y_train_CNN)\n",
    "# CNN.load_weights('CNN.h5')"
   ]
  },
  {
   "cell_type": "code",
   "execution_count": 187,
   "metadata": {},
   "outputs": [
    {
     "name": "stdout",
     "output_type": "stream",
     "text": [
      "WARNING:tensorflow:5 out of the last 10 calls to <function Model.make_predict_function.<locals>.predict_function at 0x0000027935A8E8B0> triggered tf.function retracing. Tracing is expensive and the excessive number of tracings could be due to (1) creating @tf.function repeatedly in a loop, (2) passing tensors with different shapes, (3) passing Python objects instead of tensors. For (1), please define your @tf.function outside of the loop. For (2), @tf.function has reduce_retracing=True option that can avoid unnecessary retracing. For (3), please refer to https://www.tensorflow.org/guide/function#controlling_retracing and https://www.tensorflow.org/api_docs/python/tf/function for  more details.\n",
      "1/1 [==============================] - 0s 155ms/step\n"
     ]
    }
   ],
   "source": [
    "out = CNN.model_predict_classes(X_test_CNN)"
   ]
  },
  {
   "cell_type": "code",
   "execution_count": 188,
   "metadata": {},
   "outputs": [
    {
     "data": {
      "text/plain": [
       "[1, 0, 1, 0, -1, 1, 1, 1, 0, 0, 1, 1, 0, 0, 0, 0, -1, 0, 1, 1]"
      ]
     },
     "execution_count": 188,
     "metadata": {},
     "output_type": "execute_result"
    }
   ],
   "source": [
    "out"
   ]
  },
  {
   "attachments": {},
   "cell_type": "markdown",
   "metadata": {},
   "source": [
    "### **Evaluate the model**"
   ]
  },
  {
   "cell_type": "code",
   "execution_count": 189,
   "metadata": {},
   "outputs": [
    {
     "name": "stdout",
     "output_type": "stream",
     "text": [
      "1/1 [==============================] - 0s 26ms/step\n"
     ]
    },
    {
     "data": {
      "text/plain": [
       "array([[0.99522346],\n",
       "       [0.00081641],\n",
       "       [0.994997  ],\n",
       "       [0.00021465],\n",
       "       [0.6304759 ],\n",
       "       [0.993386  ],\n",
       "       [0.9630043 ],\n",
       "       [0.98127407],\n",
       "       [0.06330821],\n",
       "       [0.05179942],\n",
       "       [0.98874986],\n",
       "       [0.9987779 ],\n",
       "       [0.00293645],\n",
       "       [0.00234299],\n",
       "       [0.04159449],\n",
       "       [0.17102401],\n",
       "       [0.30824372],\n",
       "       [0.01666183],\n",
       "       [0.9965185 ],\n",
       "       [0.9837855 ]], dtype=float32)"
      ]
     },
     "execution_count": 189,
     "metadata": {},
     "output_type": "execute_result"
    }
   ],
   "source": [
    "predictions = CNN.model_predict(X_test_CNN)\n",
    "predictions"
   ]
  },
  {
   "cell_type": "code",
   "execution_count": 190,
   "metadata": {},
   "outputs": [
    {
     "data": {
      "text/plain": [
       "<tf.Tensor: shape=(20, 5, 1250), dtype=float32, numpy=\n",
       "array([[[-1.3714234 , -1.4649614 , -1.4427805 , ...,  0.05267079,\n",
       "         -0.08979908, -0.22919995],\n",
       "        [-1.516764  , -1.5958303 , -1.5548593 , ..., -0.39493155,\n",
       "         -0.5264928 , -0.6288733 ],\n",
       "        [-1.0158865 , -1.0497293 , -1.0036805 , ..., -0.44601402,\n",
       "         -0.54614794, -0.6139918 ],\n",
       "        [-0.70208275, -0.7482932 , -0.73115104, ...,  0.1774256 ,\n",
       "          0.16472016,  0.14220922],\n",
       "        [-0.00002552, -0.08569576, -0.16352619, ...,  0.47738764,\n",
       "          0.5504948 ,  0.601348  ]],\n",
       "\n",
       "       [[ 0.05485012, -0.23348598, -0.5368935 , ...,  0.8320281 ,\n",
       "          0.93650776,  0.9261473 ],\n",
       "        [ 0.01377982, -0.3095312 , -0.63174075, ...,  0.18180186,\n",
       "          0.31255105,  0.36465117],\n",
       "        [-0.0023031 , -0.32386366, -0.6467315 , ..., -0.18981056,\n",
       "         -0.07879283, -0.03477502],\n",
       "        [-0.03532738, -0.14315726, -0.23711865, ...,  0.47978175,\n",
       "          0.5569663 ,  0.56853944],\n",
       "        [-0.10100238,  0.00150293,  0.12826395, ...,  0.79394025,\n",
       "          0.73979604,  0.6639163 ]],\n",
       "\n",
       "       [[ 0.05485012, -0.18788083, -0.4573224 , ...,  0.04681862,\n",
       "         -0.11262349, -0.27248552],\n",
       "        [ 0.01377982, -0.2113273 , -0.46337315, ...,  0.6020366 ,\n",
       "          0.40360856,  0.18675785],\n",
       "        [-0.0023031 , -0.19538006, -0.41292745, ...,  0.81840837,\n",
       "          0.60576177,  0.3656745 ],\n",
       "        [-0.03532738, -0.11901637, -0.2345324 , ..., -0.2982675 ,\n",
       "         -0.39457223, -0.48535556],\n",
       "        [-0.10100238, -0.01989962,  0.05602963, ..., -0.6032993 ,\n",
       "         -0.6126453 , -0.5719608 ]],\n",
       "\n",
       "       ...,\n",
       "\n",
       "       [[ 0.63133746,  0.777306  ,  0.8565612 , ...,  0.12258479,\n",
       "          0.17360727,  0.1954641 ],\n",
       "        [ 0.5702674 ,  0.8605602 ,  1.0870672 , ..., -0.08088291,\n",
       "          0.08569299,  0.22386226],\n",
       "        [ 0.58065075,  0.8263534 ,  1.0132099 , ...,  0.23588262,\n",
       "          0.4726086 ,  0.6680586 ],\n",
       "        [-0.00956326,  0.15700449,  0.30079442, ...,  0.09844431,\n",
       "         -0.02858773, -0.17482126],\n",
       "        [-0.85663754, -0.84671307, -0.80560493, ..., -0.336577  ,\n",
       "         -0.7506287 , -1.1497562 ]],\n",
       "\n",
       "       [[-0.32526377, -0.42627332, -0.4926066 , ..., -0.289917  ,\n",
       "         -0.4746226 , -0.6142297 ],\n",
       "        [-0.7345146 , -0.7850271 , -0.78205127, ..., -0.6651246 ,\n",
       "         -0.8857994 , -1.0411    ],\n",
       "        [-0.7346901 , -0.86775845, -0.94016665, ..., -0.16657922,\n",
       "         -0.5001524 , -0.794811  ],\n",
       "        [-0.54006916, -0.4965339 , -0.43137616, ..., -0.76157165,\n",
       "         -0.8752622 , -0.91603667],\n",
       "        [-0.27379805, -0.11429683,  0.03016739, ..., -0.51821274,\n",
       "         -0.43102595, -0.3017697 ]],\n",
       "\n",
       "       [[ 1.0342783 ,  0.47906613, -0.12139711, ...,  1.0229182 ,\n",
       "          0.9024687 ,  0.72621465],\n",
       "        [ 0.62197185,  0.12608874, -0.39543974, ...,  1.2368844 ,\n",
       "          0.98058325,  0.66998976],\n",
       "        [ 0.84916973,  0.36423442, -0.1532571 , ...,  1.4494034 ,\n",
       "          1.2183585 ,  0.91821563],\n",
       "        [ 1.1793044 ,  0.6378718 ,  0.03570598, ...,  0.95810884,\n",
       "          0.85107017,  0.69146943],\n",
       "        [ 0.6583806 ,  0.34528428, -0.01485672, ...,  0.5678059 ,\n",
       "          0.6254109 ,  0.63613003]]], dtype=float32)>"
      ]
     },
     "execution_count": 190,
     "metadata": {},
     "output_type": "execute_result"
    }
   ],
   "source": [
    "X_test_CNN"
   ]
  },
  {
   "cell_type": "code",
   "execution_count": 191,
   "metadata": {},
   "outputs": [
    {
     "name": "stdout",
     "output_type": "stream",
     "text": [
      "[[99.52235   ]\n",
      " [ 0.08164063]\n",
      " [99.4997    ]\n",
      " [ 0.02146477]\n",
      " [63.04759   ]\n",
      " [99.3386    ]\n",
      " [96.30043   ]\n",
      " [98.1274    ]\n",
      " [ 6.330821  ]\n",
      " [ 5.1799417 ]\n",
      " [98.874985  ]\n",
      " [99.87779   ]\n",
      " [ 0.29364452]\n",
      " [ 0.23429908]\n",
      " [ 4.1594496 ]\n",
      " [17.102402  ]\n",
      " [30.824371  ]\n",
      " [ 1.666183  ]\n",
      " [99.65185   ]\n",
      " [98.37855   ]]\n"
     ]
    }
   ],
   "source": [
    "np.set_printoptions(suppress=True)\n",
    "print(predictions*100)"
   ]
  },
  {
   "cell_type": "code",
   "execution_count": 192,
   "metadata": {},
   "outputs": [],
   "source": [
    "# threshold = 0.5\n",
    "predictions = np.where(predictions > 0.5, 1, 0)"
   ]
  },
  {
   "cell_type": "code",
   "execution_count": 193,
   "metadata": {},
   "outputs": [
    {
     "name": "stdout",
     "output_type": "stream",
     "text": [
      "              precision    recall  f1-score   support\n",
      "\n",
      "           0       1.00      0.91      0.95        11\n",
      "           1       0.90      1.00      0.95         9\n",
      "\n",
      "    accuracy                           0.95        20\n",
      "   macro avg       0.95      0.95      0.95        20\n",
      "weighted avg       0.96      0.95      0.95        20\n",
      "\n"
     ]
    }
   ],
   "source": [
    "# # Classification report\n",
    "print(classification_report(y_test_CNN,predictions))"
   ]
  },
  {
   "cell_type": "code",
   "execution_count": 194,
   "metadata": {},
   "outputs": [],
   "source": [
    "CNN.model.save('CNNNorm.h5')"
   ]
  }
 ],
 "metadata": {
  "kernelspec": {
   "display_name": "mne",
   "language": "python",
   "name": "python3"
  },
  "language_info": {
   "codemirror_mode": {
    "name": "ipython",
    "version": 3
   },
   "file_extension": ".py",
   "mimetype": "text/x-python",
   "name": "python",
   "nbconvert_exporter": "python",
   "pygments_lexer": "ipython3",
   "version": "3.9.13"
  },
  "orig_nbformat": 4
 },
 "nbformat": 4,
 "nbformat_minor": 2
}
