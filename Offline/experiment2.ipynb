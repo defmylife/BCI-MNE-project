{
 "cells": [
  {
   "attachments": {},
   "cell_type": "markdown",
   "metadata": {},
   "source": [
    "# **Experiment #2**: Preprocessing\n"
   ]
  },
  {
   "cell_type": "code",
   "execution_count": 1,
   "metadata": {},
   "outputs": [],
   "source": [
    "import mne\n",
    "\n",
    "# Utility\n",
    "import pandas as pd\n",
    "import numpy as np\n",
    "import matplotlib.pyplot as plt\n",
    "import seaborn as sns\n",
    "from collections import OrderedDict\n",
    "# Scikit-learn and Pyriemann ML functionalities\n",
    "from sklearn.pipeline import make_pipeline\n",
    "from sklearn.linear_model import LogisticRegression\n",
    "from sklearn.preprocessing import StandardScaler, OneHotEncoder\n",
    "from sklearn.discriminant_analysis import LinearDiscriminantAnalysis as LDA\n",
    "from sklearn.model_selection import cross_validate, cross_val_score, StratifiedShuffleSplit\n",
    "from pyriemann.estimation import Covariances, ERPCovariances, XdawnCovariances\n",
    "from pyriemann.spatialfilters import CSP\n",
    "from pyriemann.tangentspace import TangentSpace\n",
    "from pyriemann.classification import MDM\n",
    "\n",
    "from utilities import read_xdf, epoching"
   ]
  },
  {
   "attachments": {},
   "cell_type": "markdown",
   "metadata": {},
   "source": [
    "### **Load Data**"
   ]
  },
  {
   "cell_type": "code",
   "execution_count": 5,
   "metadata": {},
   "outputs": [
    {
     "name": "stdout",
     "output_type": "stream",
     "text": [
      "Creating RawArray with float64 data, n_channels=8, n_times=52020\n",
      "    Range : 0 ... 52019 =      0.000 ...   208.006 secs\n",
      "Ready.\n",
      "Filtering raw data in 1 contiguous segment\n",
      "Setting up band-pass filter from 4 - 12 Hz\n",
      "\n",
      "FIR filter parameters\n",
      "---------------------\n",
      "Designing a one-pass, zero-phase, non-causal bandpass filter:\n",
      "- Windowed time-domain design (firwin) method\n",
      "- Hamming window with 0.0194 passband ripple and 53 dB stopband attenuation\n",
      "- Lower passband edge: 4.00\n",
      "- Lower transition bandwidth: 2.00 Hz (-6 dB cutoff frequency: 3.00 Hz)\n",
      "- Upper passband edge: 12.00 Hz\n",
      "- Upper transition bandwidth: 3.00 Hz (-6 dB cutoff frequency: 13.50 Hz)\n",
      "- Filter length: 413 samples (1.651 sec)\n",
      "\n",
      "Used Annotations descriptions: ['1', '2', '3', '4', '5', '6']\n",
      "Not setting metadata\n",
      "48 matching events found\n",
      "Applying baseline correction (mode: mean)\n",
      "0 projection items activated\n",
      "Using data from preloaded Raw for 48 events and 1251 original time points ...\n",
      "0 bad epochs dropped\n",
      "Effective window size : 1.024 (s)\n"
     ]
    },
    {
     "name": "stderr",
     "output_type": "stream",
     "text": [
      "c:\\Users\\seami\\OneDrive\\Documents\\GitHub\\BCI-MNE-project\\Offline\\utilities.py:44: RuntimeWarning: The unit for channel(s) obci_eeg1_0 has changed from NA to V.\n",
      "  raw.set_channel_types({'obci_eeg1_0': 'eeg'})   # FP1\n",
      "c:\\Users\\seami\\OneDrive\\Documents\\GitHub\\BCI-MNE-project\\Offline\\utilities.py:45: RuntimeWarning: The unit for channel(s) obci_eeg1_1 has changed from NA to V.\n",
      "  raw.set_channel_types({'obci_eeg1_1': 'eeg'})   # O1\n",
      "c:\\Users\\seami\\OneDrive\\Documents\\GitHub\\BCI-MNE-project\\Offline\\utilities.py:46: RuntimeWarning: The unit for channel(s) obci_eeg1_2 has changed from NA to V.\n",
      "  raw.set_channel_types({'obci_eeg1_2': 'eeg'})   # Oz\n",
      "c:\\Users\\seami\\OneDrive\\Documents\\GitHub\\BCI-MNE-project\\Offline\\utilities.py:47: RuntimeWarning: The unit for channel(s) obci_eeg1_3 has changed from NA to V.\n",
      "  raw.set_channel_types({'obci_eeg1_3': 'eeg'})   # O2\n",
      "c:\\Users\\seami\\OneDrive\\Documents\\GitHub\\BCI-MNE-project\\Offline\\utilities.py:48: RuntimeWarning: The unit for channel(s) obci_eeg1_4 has changed from NA to V.\n",
      "  raw.set_channel_types({'obci_eeg1_4': 'eeg'})   # POz\n",
      "c:\\Users\\seami\\OneDrive\\Documents\\GitHub\\BCI-MNE-project\\Offline\\utilities.py:49: RuntimeWarning: The unit for channel(s) obci_eeg1_5 has changed from NA to V.\n",
      "  raw.set_channel_types({'obci_eeg1_5': 'eeg'})   # Pz\n",
      "c:\\Users\\seami\\OneDrive\\Documents\\GitHub\\BCI-MNE-project\\Offline\\utilities.py:50: RuntimeWarning: The unit for channel(s) obci_eeg1_6 has changed from NA to V.\n",
      "  raw.set_channel_types({'obci_eeg1_6': 'eeg'})   # none\n",
      "c:\\Users\\seami\\OneDrive\\Documents\\GitHub\\BCI-MNE-project\\Offline\\utilities.py:51: RuntimeWarning: The unit for channel(s) obci_eeg1_7 has changed from NA to V.\n",
      "  raw.set_channel_types({'obci_eeg1_7': 'eeg'})   # none\n",
      "[Parallel(n_jobs=1)]: Using backend SequentialBackend with 1 concurrent workers.\n",
      "[Parallel(n_jobs=1)]: Done   1 out of   1 | elapsed:    0.0s remaining:    0.0s\n",
      "[Parallel(n_jobs=1)]: Done   2 out of   2 | elapsed:    0.0s remaining:    0.0s\n",
      "[Parallel(n_jobs=1)]: Done   3 out of   3 | elapsed:    0.0s remaining:    0.0s\n",
      "[Parallel(n_jobs=1)]: Done   4 out of   4 | elapsed:    0.0s remaining:    0.0s\n",
      "[Parallel(n_jobs=1)]: Done   8 out of   8 | elapsed:    0.0s finished\n"
     ]
    },
    {
     "name": "stdout",
     "output_type": "stream",
     "text": [
      "Creating RawArray with float64 data, n_channels=8, n_times=49650\n",
      "    Range : 0 ... 49649 =      0.000 ...   198.521 secs\n",
      "Ready.\n",
      "Filtering raw data in 1 contiguous segment\n",
      "Setting up band-pass filter from 4 - 12 Hz\n",
      "\n",
      "FIR filter parameters\n",
      "---------------------\n",
      "Designing a one-pass, zero-phase, non-causal bandpass filter:\n",
      "- Windowed time-domain design (firwin) method\n",
      "- Hamming window with 0.0194 passband ripple and 53 dB stopband attenuation\n",
      "- Lower passband edge: 4.00\n",
      "- Lower transition bandwidth: 2.00 Hz (-6 dB cutoff frequency: 3.00 Hz)\n",
      "- Upper passband edge: 12.00 Hz\n",
      "- Upper transition bandwidth: 3.00 Hz (-6 dB cutoff frequency: 13.50 Hz)\n",
      "- Filter length: 413 samples (1.651 sec)\n",
      "\n",
      "Used Annotations descriptions: ['1', '2', '3', '4', '5', '6']\n",
      "Not setting metadata\n",
      "48 matching events found\n",
      "Applying baseline correction (mode: mean)\n",
      "0 projection items activated\n",
      "Using data from preloaded Raw for 48 events and 1251 original time points ...\n",
      "1 bad epochs dropped\n",
      "Effective window size : 1.024 (s)\n"
     ]
    },
    {
     "name": "stderr",
     "output_type": "stream",
     "text": [
      "c:\\Users\\seami\\OneDrive\\Documents\\GitHub\\BCI-MNE-project\\Offline\\utilities.py:44: RuntimeWarning: The unit for channel(s) obci_eeg1_0 has changed from NA to V.\n",
      "  raw.set_channel_types({'obci_eeg1_0': 'eeg'})   # FP1\n",
      "c:\\Users\\seami\\OneDrive\\Documents\\GitHub\\BCI-MNE-project\\Offline\\utilities.py:45: RuntimeWarning: The unit for channel(s) obci_eeg1_1 has changed from NA to V.\n",
      "  raw.set_channel_types({'obci_eeg1_1': 'eeg'})   # O1\n",
      "c:\\Users\\seami\\OneDrive\\Documents\\GitHub\\BCI-MNE-project\\Offline\\utilities.py:46: RuntimeWarning: The unit for channel(s) obci_eeg1_2 has changed from NA to V.\n",
      "  raw.set_channel_types({'obci_eeg1_2': 'eeg'})   # Oz\n",
      "c:\\Users\\seami\\OneDrive\\Documents\\GitHub\\BCI-MNE-project\\Offline\\utilities.py:47: RuntimeWarning: The unit for channel(s) obci_eeg1_3 has changed from NA to V.\n",
      "  raw.set_channel_types({'obci_eeg1_3': 'eeg'})   # O2\n",
      "c:\\Users\\seami\\OneDrive\\Documents\\GitHub\\BCI-MNE-project\\Offline\\utilities.py:48: RuntimeWarning: The unit for channel(s) obci_eeg1_4 has changed from NA to V.\n",
      "  raw.set_channel_types({'obci_eeg1_4': 'eeg'})   # POz\n",
      "c:\\Users\\seami\\OneDrive\\Documents\\GitHub\\BCI-MNE-project\\Offline\\utilities.py:49: RuntimeWarning: The unit for channel(s) obci_eeg1_5 has changed from NA to V.\n",
      "  raw.set_channel_types({'obci_eeg1_5': 'eeg'})   # Pz\n",
      "c:\\Users\\seami\\OneDrive\\Documents\\GitHub\\BCI-MNE-project\\Offline\\utilities.py:50: RuntimeWarning: The unit for channel(s) obci_eeg1_6 has changed from NA to V.\n",
      "  raw.set_channel_types({'obci_eeg1_6': 'eeg'})   # none\n",
      "c:\\Users\\seami\\OneDrive\\Documents\\GitHub\\BCI-MNE-project\\Offline\\utilities.py:51: RuntimeWarning: The unit for channel(s) obci_eeg1_7 has changed from NA to V.\n",
      "  raw.set_channel_types({'obci_eeg1_7': 'eeg'})   # none\n",
      "[Parallel(n_jobs=1)]: Using backend SequentialBackend with 1 concurrent workers.\n",
      "[Parallel(n_jobs=1)]: Done   1 out of   1 | elapsed:    0.0s remaining:    0.0s\n",
      "[Parallel(n_jobs=1)]: Done   2 out of   2 | elapsed:    0.0s remaining:    0.0s\n",
      "[Parallel(n_jobs=1)]: Done   3 out of   3 | elapsed:    0.0s remaining:    0.0s\n",
      "[Parallel(n_jobs=1)]: Done   4 out of   4 | elapsed:    0.0s remaining:    0.0s\n",
      "[Parallel(n_jobs=1)]: Done   8 out of   8 | elapsed:    0.0s finished\n"
     ]
    },
    {
     "name": "stdout",
     "output_type": "stream",
     "text": [
      "Creating RawArray with float64 data, n_channels=8, n_times=50520\n",
      "    Range : 0 ... 50519 =      0.000 ...   201.994 secs\n",
      "Ready.\n",
      "Filtering raw data in 1 contiguous segment\n",
      "Setting up band-pass filter from 4 - 12 Hz\n",
      "\n",
      "FIR filter parameters\n",
      "---------------------\n",
      "Designing a one-pass, zero-phase, non-causal bandpass filter:\n",
      "- Windowed time-domain design (firwin) method\n",
      "- Hamming window with 0.0194 passband ripple and 53 dB stopband attenuation\n",
      "- Lower passband edge: 4.00\n",
      "- Lower transition bandwidth: 2.00 Hz (-6 dB cutoff frequency: 3.00 Hz)\n",
      "- Upper passband edge: 12.00 Hz\n",
      "- Upper transition bandwidth: 3.00 Hz (-6 dB cutoff frequency: 13.50 Hz)\n",
      "- Filter length: 413 samples (1.651 sec)\n",
      "\n",
      "Used Annotations descriptions: ['1', '2', '3', '4', '5', '6']\n",
      "Not setting metadata\n",
      "48 matching events found\n",
      "Applying baseline correction (mode: mean)\n",
      "0 projection items activated\n",
      "Using data from preloaded Raw for 48 events and 1252 original time points ...\n",
      "0 bad epochs dropped\n",
      "Effective window size : 1.024 (s)\n"
     ]
    },
    {
     "name": "stderr",
     "output_type": "stream",
     "text": [
      "c:\\Users\\seami\\OneDrive\\Documents\\GitHub\\BCI-MNE-project\\Offline\\utilities.py:44: RuntimeWarning: The unit for channel(s) obci_eeg1_0 has changed from NA to V.\n",
      "  raw.set_channel_types({'obci_eeg1_0': 'eeg'})   # FP1\n",
      "c:\\Users\\seami\\OneDrive\\Documents\\GitHub\\BCI-MNE-project\\Offline\\utilities.py:45: RuntimeWarning: The unit for channel(s) obci_eeg1_1 has changed from NA to V.\n",
      "  raw.set_channel_types({'obci_eeg1_1': 'eeg'})   # O1\n",
      "c:\\Users\\seami\\OneDrive\\Documents\\GitHub\\BCI-MNE-project\\Offline\\utilities.py:46: RuntimeWarning: The unit for channel(s) obci_eeg1_2 has changed from NA to V.\n",
      "  raw.set_channel_types({'obci_eeg1_2': 'eeg'})   # Oz\n",
      "c:\\Users\\seami\\OneDrive\\Documents\\GitHub\\BCI-MNE-project\\Offline\\utilities.py:47: RuntimeWarning: The unit for channel(s) obci_eeg1_3 has changed from NA to V.\n",
      "  raw.set_channel_types({'obci_eeg1_3': 'eeg'})   # O2\n",
      "c:\\Users\\seami\\OneDrive\\Documents\\GitHub\\BCI-MNE-project\\Offline\\utilities.py:48: RuntimeWarning: The unit for channel(s) obci_eeg1_4 has changed from NA to V.\n",
      "  raw.set_channel_types({'obci_eeg1_4': 'eeg'})   # POz\n",
      "c:\\Users\\seami\\OneDrive\\Documents\\GitHub\\BCI-MNE-project\\Offline\\utilities.py:49: RuntimeWarning: The unit for channel(s) obci_eeg1_5 has changed from NA to V.\n",
      "  raw.set_channel_types({'obci_eeg1_5': 'eeg'})   # Pz\n",
      "c:\\Users\\seami\\OneDrive\\Documents\\GitHub\\BCI-MNE-project\\Offline\\utilities.py:50: RuntimeWarning: The unit for channel(s) obci_eeg1_6 has changed from NA to V.\n",
      "  raw.set_channel_types({'obci_eeg1_6': 'eeg'})   # none\n",
      "c:\\Users\\seami\\OneDrive\\Documents\\GitHub\\BCI-MNE-project\\Offline\\utilities.py:51: RuntimeWarning: The unit for channel(s) obci_eeg1_7 has changed from NA to V.\n",
      "  raw.set_channel_types({'obci_eeg1_7': 'eeg'})   # none\n",
      "[Parallel(n_jobs=1)]: Using backend SequentialBackend with 1 concurrent workers.\n",
      "[Parallel(n_jobs=1)]: Done   1 out of   1 | elapsed:    0.0s remaining:    0.0s\n",
      "[Parallel(n_jobs=1)]: Done   2 out of   2 | elapsed:    0.0s remaining:    0.0s\n",
      "[Parallel(n_jobs=1)]: Done   3 out of   3 | elapsed:    0.0s remaining:    0.0s\n",
      "[Parallel(n_jobs=1)]: Done   4 out of   4 | elapsed:    0.0s remaining:    0.0s\n",
      "[Parallel(n_jobs=1)]: Done   8 out of   8 | elapsed:    0.0s finished\n"
     ]
    }
   ],
   "source": [
    "filenames = {'Pipo_1_5_test1.xdf', 'Pipo_1_5_test2.xdf', 'Pipo_1_5_test3.xdf'}\n",
    "\n",
    "X, F, t, y = [],[],[],[]; tmax=5\n",
    "for filename in filenames:\n",
    "\n",
    "    raw = read_xdf(filename, show_plot=False, show_psd=False, bandpass=(4.0, 12.0))\n",
    "\n",
    "    epochs = epoching(raw, show_psd=False,\n",
    "        show_eeg=False,    # set True if wanna see preview of all epoch\n",
    "        tmax=tmax)         # tmax=5 means set epoch duration 5 second\n",
    "\n",
    "    # Pick only event 2: Left stimuli, 5: Right stimuli\n",
    "    epochs = epochs['2','5']\n",
    "\n",
    "    X.append((  epochs.get_data() * 1e6)[:,:,:int( tmax*250 )]) # 250 is record sampling rate\n",
    "    t.append((  epochs.times)[:int( tmax*250 )]) # 250 is record sampling rate          \n",
    "    F.append(   epochs.compute_psd(\n",
    "        method='welch', \n",
    "        fmax=30,\n",
    "        n_per_seg=len(epochs.times)\n",
    "        \n",
    "        # raise ValueError(('If n_per_seg is None n_fft is not allowed to be > ''n_times. \n",
    "        # If you want zero-padding, you have to set ''n_per_seg to relevant length. Got n_fft of %d while'' signal length is %d.') % (n_fft, n))\n",
    "\n",
    "        # n_fft : int\n",
    "        #     The length of FFT used, must be ``>= n_per_seg`` (default: 256).\n",
    "        #     The segments will be zero-padded if ``n_fft > n_per_seg``.\n",
    "        # n_per_seg : int | None\n",
    "        #     Length of each Welch segment. The smaller it is with respect to the\n",
    "        #     signal length the smoother are the PSDs. Defaults to None, which sets\n",
    "        #     n_per_seg equal to n_fft.\n",
    "        ).get_data())\n",
    "    y.append(   epochs.events[:, -1])\n",
    "\n",
    "# Concatenate all data\n",
    "X = np.concatenate(X)\n",
    "F = np.concatenate(F)\n",
    "t = np.concatenate(t)\n",
    "y = np.concatenate(y)"
   ]
  },
  {
   "cell_type": "code",
   "execution_count": 6,
   "metadata": {},
   "outputs": [
    {
     "data": {
      "text/plain": [
       "((48, 5, 1250), (48, 5, 31), (3750,), (48,))"
      ]
     },
     "execution_count": 6,
     "metadata": {},
     "output_type": "execute_result"
    }
   ],
   "source": [
    "X.shape, F.shape, t.shape, y.shape"
   ]
  },
  {
   "attachments": {},
   "cell_type": "markdown",
   "metadata": {},
   "source": [
    "## **Cross-validation**"
   ]
  },
  {
   "cell_type": "code",
   "execution_count": null,
   "metadata": {},
   "outputs": [],
   "source": [
    "from sklearn.metrics import mean_absolute_error as mae\n",
    "from tqdm.auto import tqdm"
   ]
  },
  {
   "cell_type": "code",
   "execution_count": 8,
   "metadata": {},
   "outputs": [],
   "source": [
    "# Build model\n",
    "import keras\n",
    "from keras.models import Model\n",
    "from keras.layers import  Input, Dense,Dropout, Conv1D, MaxPooling1D, Flatten,BatchNormalization\n",
    "from keras.optimizers import Adam\n",
    "from keras import backend as K  \n",
    "\n",
    "class CNNModel(Model):\n",
    "    def __init__(self, inputsize=1250):\n",
    "        super().__init__()\n",
    "\n",
    "        # Input layer shape\n",
    "        self.inputshape = (5, inputsize)\n",
    "\n",
    "        # Parameters\n",
    "        self.bath_size = 4\n",
    "        self.train_epochs = 5\n",
    "        self.upper_threshold = 0.8\n",
    "        self.lower_threshold = 0.2\n",
    "\n",
    "        # Define layers\n",
    "        self.conv1_layer1 = Conv1D(filters=128, kernel_size=3, activation='relu')\n",
    "        self.bath_norm_layer1 =BatchNormalization(name='batch_norm_layer1')\n",
    "        self.maxpool_layer1 = MaxPooling1D(2, name='maxpool_layer1')\n",
    "        self.dropout_layer1 = Dropout(0.2, name='dropout_layer1')\n",
    "        self.dense_layer1 = Dense(64, activation='relu', name='dense_layer1')\n",
    "        self.fatten_layer1 = Flatten(name='fatten_layer1')\n",
    "        self.dropout_layer2 = Dropout(0.2, name='dropout_layer2')\n",
    "        self.dense_layer2 = Dense(32, activation='relu', name='dense_layer2')\n",
    "        self.output_layer = Dense(1, activation='sigmoid', name='output_layer')\n",
    "\n",
    "        # Get model\n",
    "        self.model = self.get_model()\n",
    "\n",
    "    def get_model(self):\n",
    "\n",
    "        # Define input\n",
    "        input_layer = Input(shape=self.inputshape, name='input_layer')\n",
    "\n",
    "        # Model layers\n",
    "        x = self.conv1_layer1(input_layer)\n",
    "        x = self.bath_norm_layer1(x)\n",
    "        x = self.maxpool_layer1(x)\n",
    "        x = self.dropout_layer1(x)\n",
    "        x = self.dense_layer1(x)\n",
    "        x = self.fatten_layer1(x)\n",
    "        x = self.dropout_layer2(x)\n",
    "        x = self.dense_layer2(x)\n",
    "        output_layer = self.output_layer(x)\n",
    "\n",
    "        # Model\n",
    "        model = Model(inputs=input_layer, outputs=output_layer, name='CNNModel')\n",
    "        model.compile(optimizer='adam', loss='binary_crossentropy', metrics=['accuracy'])\n",
    "        return model"
   ]
  },
  {
   "cell_type": "markdown",
   "metadata": {},
   "source": [
    "💡 [EEG Notebook](https://neurotechx.github.io/eeg-notebooks/auto_examples/visual_ssvep/02r__ssvep_decoding.html)"
   ]
  },
  {
   "cell_type": "code",
   "execution_count": null,
   "metadata": {},
   "outputs": [],
   "source": [
    "RESULTS = list()\n",
    "\n",
    "for INPUT in [X, F]:\n",
    "\n",
    "    # Next, we will use 5 different machine learning pipelines to classify the SSVEP based on the data we collected. The\n",
    "\n",
    "    # - CSP + RegLDA : Common Spatial Patterns + Regularized Linear Discriminat Analysis. This is a very common EEG analysis pipeline.\n",
    "    # - Cov + TS : Covariance + Tangent space mapping. One of the most reliable Riemannian geometry-based pipelines.\n",
    "    # - Cov + MDM: Covariance + MDM. A very simple, yet effective (for low channel count), Riemannian geometry classifier.\n",
    "    # - CSP + Cov + TS: Common Spatial Patterns + Covariance + Tangent spacem mapping. Riemannian pipeline with the standard CSP procedure beforehand\n",
    "    # - CNN: \n",
    "\n",
    "    # Evaluation is done through cross-validation, with area-under-the-curve (AUC) as metric (AUC is probably the best metric for binary and unbalanced classification problem)\n",
    "\n",
    "    # Note: because we're doing machine learning here, the following cell may take a while to complete\n",
    "\n",
    "    clfs = OrderedDict()\n",
    "    clfs['CSP + RegLDA'] = make_pipeline(Covariances(), CSP(4), LDA(shrinkage='auto', solver='eigen'))\n",
    "    clfs['Cov + TS'] = make_pipeline(Covariances(), TangentSpace(), LogisticRegression())\n",
    "    clfs['Cov + MDM'] = make_pipeline(Covariances(), MDM())\n",
    "    clfs['CSP + Cov + TS'] = make_pipeline(Covariances(), CSP(4, log=False), TangentSpace(), LogisticRegression())\n",
    "\n",
    "    from scikeras.wrappers import KerasClassifier\n",
    "\n",
    "    CNN = CNNModel( inputsize=INPUT.shape[-1] )\n",
    "    clfs['CNN'] = KerasClassifier(model=CNN.get_model(), epochs=10, batch_size=8, verbose=0)\n",
    "\n",
    "    # define cross validation\n",
    "    cv = StratifiedShuffleSplit(n_splits=20, test_size=0.25,\n",
    "                                            random_state=42)\n",
    "    scoring = {'acc': 'accuracy',\n",
    "        'auc': 'roc_auc'}\n",
    "\n",
    "    # run cross validation for each pipeline\n",
    "    acc,auc = [],[]\n",
    "    methods = []\n",
    "    for m in tqdm(clfs):\n",
    "        # print(m)\n",
    "        res = cross_validate(clfs[m], INPUT, y, scoring=scoring, cv=cv, n_jobs=-1)\n",
    "        '''res = {'fit_time': array([3.94812942, 3.98712373, 3.819134  , 3.88912916]),\n",
    "                'score_time': array([0.53296137, 0.5869596 , 0.53796363, 0.6069591 ]),\n",
    "                'test_acc': array([1.        , 0.95833333, 1.        , 1.        ]),\n",
    "                'test_auc': array([1., 1., 1., 1.])}'''\n",
    "        acc.extend(res['test_acc'])\n",
    "        auc.extend(res['test_auc'])\n",
    "        methods.extend([m]*len(res['score_time']))\n",
    "\n",
    "    results = pd.DataFrame(data=auc, columns=['AUC'])\n",
    "    results['Accuracy'] = acc\n",
    "    results['Method'] = methods\n",
    "\n",
    "    RESULTS.append(results)"
   ]
  },
  {
   "cell_type": "code",
   "execution_count": 21,
   "metadata": {},
   "outputs": [
    {
     "data": {
      "image/png": "[encoded data removed]",
      "text/plain": [
       "<Figure size 1200x300 with 2 Axes>"
      ]
     },
     "metadata": {},
     "output_type": "display_data"
    },
    {
     "data": {
      "image/png": "[encoded data removed]",
      "text/plain": [
       "<Figure size 1200x300 with 2 Axes>"
      ]
     },
     "metadata": {},
     "output_type": "display_data"
    }
   ],
   "source": [
    "for results in RESULTS:\n",
    "    fig, ax = plt.subplots(ncols=2, figsize=[12,3])\n",
    "    sns.barplot(data=results, x='AUC', y='Method', capsize=.2, ax=ax[0],\n",
    "            errorbar=('ci', 68),\n",
    "            # default ci=95 is ~1.96 standard errors, and ci=68 is ~1 standard error\n",
    "        )\n",
    "    ax[0].set_xlim(0.6, 1); ax[0].set_title('AUC')\n",
    "    sns.despine()\n",
    "\n",
    "    # fig, ax = plt.subplot(2, figsize=[8,4])\n",
    "    sns.barplot(data=results, x='Accuracy', y='Method', capsize=.2, ax=ax[1],\n",
    "            errorbar=('ci', 68),\n",
    "            # default ci=95 is ~1.96 standard errors, and ci=68 is ~1 standard error\n",
    "        )\n",
    "    ax[1].set_xlim(0.6, 1); ax[1].set_title('Accuracy'); ax[1].set_yticks([])\n",
    "    sns.despine()\n",
    "    plt.show()"
   ]
  }
 ],
 "metadata": {
  "kernelspec": {
   "display_name": "Python 3",
   "language": "python",
   "name": "python3"
  },
  "language_info": {
   "codemirror_mode": {
    "name": "ipython",
    "version": 3
   },
   "file_extension": ".py",
   "mimetype": "text/x-python",
   "name": "python",
   "nbconvert_exporter": "python",
   "pygments_lexer": "ipython3",
   "version": "3.9.5"
  },
  "orig_nbformat": 4
 },
 "nbformat": 4,
 "nbformat_minor": 2
}
