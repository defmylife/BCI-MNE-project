{
 "cells": [
  {
   "attachments": {},
   "cell_type": "markdown",
   "metadata": {},
   "source": [
    "## **Import Libraries**"
   ]
  },
  {
   "cell_type": "code",
   "execution_count": 2,
   "metadata": {},
   "outputs": [],
   "source": [
    "import mne\n",
    "\n",
    "# Utility\n",
    "import pandas as pd\n",
    "import numpy as np\n",
    "import matplotlib.pyplot as plt\n",
    "import tensorflow as tf\n",
    "import seaborn as sns\n",
    "import os\n",
    "%matplotlib inline\n",
    "import warnings\n",
    "warnings.filterwarnings('ignore')\n",
    "\n",
    "from utilities import read_xdf, epoching"
   ]
  },
  {
   "cell_type": "code",
   "execution_count": 457,
   "metadata": {},
   "outputs": [],
   "source": [
    "# Train model\n",
    "from collections import OrderedDict\n",
    "from keras.callbacks import EarlyStopping\n",
    "from keras.callbacks import ModelCheckpoint\n",
    "from time import time\n",
    "from datetime import timedelta\n",
    "import keras\n",
    "from keras.models import load_model\n",
    "import os\n",
    "from keras.utils import plot_model\n",
    "\n",
    "# Build model\n",
    "from keras.models import Sequential, Model\n",
    "from keras.layers import Embedding, Reshape, Activation, Input, Dense,GRU,Reshape,TimeDistributed,Bidirectional,Dropout,Masking,LSTM, GlobalAveragePooling1D, Conv1D, MaxPooling1D, Flatten,GlobalMaxPooling1D\n",
    "from keras.layers import Concatenate, Lambda, Reshape, RepeatVector,Multiply, BatchNormalization\n",
    "from keras.optimizers import Adam\n",
    "from keras import backend as K                                                          \n",
    "from keras.callbacks import ModelCheckpoint, TensorBoard\n",
    "from sklearn.pipeline import make_pipeline\n",
    "from sklearn.linear_model import LogisticRegression\n",
    "from sklearn.preprocessing import StandardScaler\n",
    "from sklearn.discriminant_analysis import LinearDiscriminantAnalysis as LDA\n",
    "from pyriemann.estimation import Covariances, ERPCovariances, XdawnCovariances\n",
    "from pyriemann.spatialfilters import CSP\n",
    "from pyriemann.tangentspace import TangentSpace\n",
    "from pyriemann.classification import MDM\n",
    "\n",
    "# Classifications report\n",
    "from sklearn.metrics import classification_report, confusion_matrix, ConfusionMatrixDisplay ,multilabel_confusion_matrix, accuracy_score\n",
    "from sklearn.model_selection import cross_val_score, StratifiedShuffleSplit"
   ]
  },
  {
   "attachments": {},
   "cell_type": "markdown",
   "metadata": {},
   "source": [
    "## **Load Data**"
   ]
  },
  {
   "attachments": {},
   "cell_type": "markdown",
   "metadata": {},
   "source": [
    "### From XDF file"
   ]
  },
  {
   "cell_type": "code",
   "execution_count": 458,
   "metadata": {},
   "outputs": [],
   "source": [
    "annotations_des = {\n",
    "    '1': 'Left cue start',\n",
    "    '2': 'Left stimuli start',\n",
    "    '3': 'Left blank start',\n",
    "    '4': 'Right cue start',\n",
    "    '5': 'Right stimuli start',\n",
    "    '6': 'Right blank start',\n",
    "}"
   ]
  },
  {
   "cell_type": "code",
   "execution_count": null,
   "metadata": {},
   "outputs": [],
   "source": [
    "from utilities import read_xdf, epoching\n",
    "\n",
    "filenames = {'Pipo_1_5_test1.xdf', 'Pipo_1_5_test2.xdf', 'Pipo_1_5_test3.xdf'}\n",
    "\n",
    "X, F, t, y = [],[],[],[]\n",
    "for filename in filenames:\n",
    "\n",
    "    raw = read_xdf(filename, show_plot=False, show_psd=False, bandpass=(4.0, 12.0))\n",
    "\n",
    "    epochs = epoching(raw, show_psd=False,\n",
    "        tmax=5) # tmax=5 means set epoch duration 5 second\n",
    "\n",
    "    # Pick only event 2: Left stimuli, 5: Right stimuli\n",
    "    epochs = epochs['2','5']\n",
    "\n",
    "    X.append((  epochs.get_data() * 1e6)[:,:,:1250]) # select only first 1250 frames(approx 5 second)\n",
    "    F.append(   epochs.compute_psd(method='welch', fmax=30).get_data())\n",
    "    t.append((  epochs.times)[:1250])                # select only first 1250 frames(approx 5 second)\n",
    "    y.append(   epochs.events[:, -1])\n",
    "\n",
    "# Concatenate all data\n",
    "X = np.concatenate(X)\n",
    "F = np.concatenate(F)\n",
    "t = np.concatenate(t)\n",
    "y = np.concatenate(y)"
   ]
  },
  {
   "cell_type": "code",
   "execution_count": 12,
   "metadata": {},
   "outputs": [
    {
     "data": {
      "text/plain": [
       "((48, 5, 1250), (48, 5, 31), (3750,), (48,))"
      ]
     },
     "execution_count": 12,
     "metadata": {},
     "output_type": "execute_result"
    }
   ],
   "source": [
    "X.shape, F.shape, t.shape, y.shape"
   ]
  },
  {
   "cell_type": "code",
   "execution_count": 14,
   "metadata": {},
   "outputs": [],
   "source": [
    "# One hot encoding\n",
    "from sklearn.preprocessing import OneHotEncoder\n",
    "\n",
    "enc = OneHotEncoder()\n",
    "Y = enc.fit_transform(y.reshape(-1, 1)).toarray()"
   ]
  },
  {
   "cell_type": "code",
   "execution_count": 15,
   "metadata": {},
   "outputs": [
    {
     "data": {
      "text/plain": [
       "((48, 5, 1250), (48, 5, 31), (3750,), (48, 2))"
      ]
     },
     "execution_count": 15,
     "metadata": {},
     "output_type": "execute_result"
    }
   ],
   "source": [
    "X.shape, F.shape, t.shape, Y.shape"
   ]
  },
  {
   "attachments": {},
   "cell_type": "markdown",
   "metadata": {},
   "source": [
    "### From CSV file"
   ]
  },
  {
   "cell_type": "code",
   "execution_count": null,
   "metadata": {},
   "outputs": [],
   "source": [
    "# Load data\n",
    "df = pd.read_csv('data/epochs.csv')\n",
    "\n",
    "# Split data into training and testing sets\n",
    "train_dataset = df.sample(frac=0.9,random_state=0)\n",
    "test_dataset = df.drop(train_dataset.index).sample(frac=1.0,random_state=0)\n",
    "\n",
    "train_dataset.reset_index(drop=True, inplace=True)\n",
    "test_dataset.reset_index(drop=True, inplace=True)\n",
    "\n",
    "train_dataset"
   ]
  },
  {
   "attachments": {},
   "cell_type": "markdown",
   "metadata": {},
   "source": [
    "## **Cross-validation**: evaluating estimator performance\n",
    "\n",
    "💡 [scikit-learn](https://scikit-learn.org/stable/modules/cross_validation.html#cross-validation-evaluating-estimator-performance)"
   ]
  },
  {
   "attachments": {},
   "cell_type": "markdown",
   "metadata": {},
   "source": [
    "### 4-different machine learning pipelines"
   ]
  },
  {
   "cell_type": "markdown",
   "metadata": {},
   "source": [
    "💡 [EEG Notebook](https://neurotechx.github.io/eeg-notebooks/auto_examples/visual_ssvep/02r__ssvep_decoding.html)"
   ]
  },
  {
   "cell_type": "code",
   "execution_count": null,
   "metadata": {},
   "outputs": [
    {
     "name": "stdout",
     "output_type": "stream",
     "text": [
      "CSP + RegLDA\n",
      "Cov + TS\n",
      "Cov + MDM\n",
      "CSP + Cov + TS\n"
     ]
    },
    {
     "data": {
      "image/png": "[encoded data removed]",
      "text/plain": [
       "<Figure size 800x400 with 1 Axes>"
      ]
     },
     "metadata": {},
     "output_type": "display_data"
    }
   ],
   "source": [
    "# Next, we will use 4 different machine learning pipelines to classify the SSVEP based on the data we collected. The\n",
    "\n",
    "# - CSP + RegLDA : Common Spatial Patterns + Regularized Linear Discriminat Analysis. This is a very common EEG analysis pipeline.\n",
    "# - Cov + TS : Covariance + Tangent space mapping. One of the most reliable Riemannian geometry-based pipelines.\n",
    "# - Cov + MDM: Covariance + MDM. A very simple, yet effective (for low channel count), Riemannian geometry classifier.\n",
    "# - CSP + Cov + TS: Common Spatial Patterns + Covariance + Tangent spacem mapping. Riemannian pipeline with the standard CSP procedure beforehand\n",
    "\n",
    "# Evaluation is done through cross-validation, with area-under-the-curve (AUC) as metric (AUC is probably the best metric for binary and unbalanced classification problem)\n",
    "\n",
    "# Note: because we're doing machine learning here, the following cell may take a while to complete\n",
    "\n",
    "clfs = OrderedDict()\n",
    "clfs['CSP + RegLDA'] = make_pipeline(Covariances(), CSP(4), LDA(shrinkage='auto', solver='eigen'))\n",
    "clfs['Cov + TS'] = make_pipeline(Covariances(), TangentSpace(), LogisticRegression())\n",
    "clfs['Cov + MDM'] = make_pipeline(Covariances(), MDM())\n",
    "clfs['CSP + Cov + TS'] = make_pipeline(Covariances(), CSP(4, log=False), TangentSpace(), LogisticRegression())\n",
    "\n",
    "# define cross validation\n",
    "cv = StratifiedShuffleSplit(n_splits=20, test_size=0.25,\n",
    "                                        random_state=42)\n",
    "\n",
    "# run cross validation for each pipeline\n",
    "auc = []\n",
    "methods = []\n",
    "for m in clfs:\n",
    "    print(m)\n",
    "    try:\n",
    "        res = cross_val_score(clfs[m], X, y==2, scoring='roc_auc',cv=cv, n_jobs=-1)\n",
    "        auc.extend(res)\n",
    "        methods.extend([m]*len(res))\n",
    "    except:\n",
    "        pass\n",
    "\n",
    "results = pd.DataFrame(data=auc, columns=['AUC'])\n",
    "results['Method'] = methods\n",
    "\n",
    "fig = plt.figure(figsize=[8,4])\n",
    "sns.barplot(data=results, x='AUC', y='Method')\n",
    "plt.xlim(0.4, 1)\n",
    "sns.despine()\n",
    "plt.show()"
   ]
  },
  {
   "attachments": {},
   "cell_type": "markdown",
   "metadata": {},
   "source": [
    "## **Training pipeline**"
   ]
  },
  {
   "attachments": {},
   "cell_type": "markdown",
   "metadata": {},
   "source": [
    "### Train Test Split"
   ]
  },
  {
   "cell_type": "code",
   "execution_count": 469,
   "metadata": {},
   "outputs": [],
   "source": [
    "from sklearn.model_selection import train_test_split\n",
    "\n",
    "X_train, X_test, y_train, y_test = train_test_split(X, y, test_size=0.2, random_state=42)"
   ]
  },
  {
   "cell_type": "code",
   "execution_count": 470,
   "metadata": {},
   "outputs": [],
   "source": [
    "X_train = tf.convert_to_tensor(X_train, dtype=tf.float32)\n",
    "X_test = tf.convert_to_tensor(X_test, dtype=tf.float32)\n",
    "y_train = tf.convert_to_tensor(y_train, dtype=tf.int32)\n",
    "y_test = tf.convert_to_tensor(y_test, dtype=tf.int32)"
   ]
  },
  {
   "cell_type": "code",
   "execution_count": 471,
   "metadata": {},
   "outputs": [
    {
     "data": {
      "text/plain": [
       "<tf.Tensor: shape=(38, 5, 1251), dtype=float32, numpy=\n",
       "array([[[        0.   ,  -1003381.2  ,  -1725189.   , ...,\n",
       "          -2098587.2  ,  -3552768.2  ,  -5270521.5  ],\n",
       "        [        0.   ,  -1007949.4  ,  -1579501.2  , ...,\n",
       "            407493.1  ,  -1102869.9  ,  -2933766.5  ],\n",
       "        [        0.   ,   -766858.75 ,  -1013545.94 , ...,\n",
       "            481599.78 ,   -704088.5  ,  -2155044.8  ],\n",
       "        [        0.   ,    -30126.305,    495850.7  , ...,\n",
       "           1894179.9  ,   1130032.   ,    257660.   ],\n",
       "        [        0.   ,    924085.4  ,   2462104.8  , ...,\n",
       "           1194990.   ,   1064271.2  ,   1084424.9  ]],\n",
       "\n",
       "       [[        0.   ,  -3077814.   ,  -7004395.   , ...,\n",
       "          -9488472.   , -10868839.   , -12474449.   ],\n",
       "        [        0.   ,  -3135845.   ,  -6971538.5  , ...,\n",
       "          -4187086.2  ,  -6328298.5  ,  -8899886.   ],\n",
       "        [        0.   ,  -2087636.1  ,  -4458084.5  , ...,\n",
       "           1579381.1  ,   -688799.94 ,  -3530024.   ],\n",
       "        [        0.   ,  -2135409.   ,  -4732575.   , ...,\n",
       "          -7817398.   ,  -8617449.   ,  -9409737.   ],\n",
       "        [        0.   ,  -1411412.4  ,  -3116178.8  , ...,\n",
       "         -12351876.   , -12758486.   , -12613256.   ]],\n",
       "\n",
       "       [[        0.   ,   -327815.88 ,   -772686.44 , ...,\n",
       "          12633374.   ,  13913193.   ,  13464710.   ],\n",
       "        [        0.   ,   -254547.64 ,   -828666.8  , ...,\n",
       "           8206641.   ,   8810582.   ,   7988924.5  ],\n",
       "        [        0.   ,   -245218.92 ,   -777297.56 , ...,\n",
       "           5415539.5  ,   5707987.5  ,   4694443.5  ],\n",
       "        [        0.   ,   -658944.   ,   -902953.1  , ...,\n",
       "          19098062.   ,  19849482.   ,  19196478.   ],\n",
       "        [        0.   ,   -680690.4  ,   -548249.   , ...,\n",
       "          25931260.   ,  25161474.   ,  23282072.   ]],\n",
       "\n",
       "       ...,\n",
       "\n",
       "       [[        0.   ,    856239.06 ,   1597957.8  , ...,\n",
       "           6876904.   ,   6875327.5  ,   6046840.5  ],\n",
       "        [        0.   ,   1485191.9  ,   2852087.8  , ...,\n",
       "           5346478.   ,   7104464.5  ,   8103056.   ],\n",
       "        [        0.   ,    381458.2  ,    722996.7  , ...,\n",
       "           3659819.   ,   5068219.   ,   5860448.5  ],\n",
       "        [        0.   ,   -940728.6  ,  -1798324.8  , ...,\n",
       "           3999972.2  ,   4952670.   ,   5172851.   ],\n",
       "        [        0.   ,  -2094693.6  ,  -3999099.5  , ...,\n",
       "           2077148.   ,   2753109.8  ,   2697707.8  ]],\n",
       "\n",
       "       [[        0.   ,   4942735.5  ,   9166106.   , ...,\n",
       "          -6913380.5  ,  -4790566.   ,  -2717596.   ],\n",
       "        [        0.   ,   3441390.   ,   6026999.5  , ...,\n",
       "         -17865768.   , -15530512.   , -12975685.   ],\n",
       "        [        0.   ,   3475963.   ,   6247409.   , ...,\n",
       "         -12337247.   ,  -9021190.   ,  -5684390.   ],\n",
       "        [        0.   ,   2367378.8  ,   3838132.   , ...,\n",
       "          -4804643.   ,  -4000288.   ,  -3556197.8  ],\n",
       "        [        0.   ,   2179778.8  ,   4063136.5  , ...,\n",
       "           9976452.   ,   8733679.   ,   6941001.   ]],\n",
       "\n",
       "       [[        0.   ,  -3354831.8  ,  -7109576.5  , ...,\n",
       "          -7278172.5  , -11890938.   , -16531083.   ],\n",
       "        [        0.   ,  -3750667.2  ,  -7549060.5  , ...,\n",
       "           -940881.6  ,  -5412143.   ,  -9962667.   ],\n",
       "        [        0.   ,  -3371588.5  ,  -6912347.   , ...,\n",
       "           -875378.8  ,  -4104592.5  ,  -7383314.5  ],\n",
       "        [        0.   ,  -2149426.5  ,  -4380563.   , ...,\n",
       "          -5412770.   ,  -6633227.5  ,  -7873672.   ],\n",
       "        [        0.   ,  -1059837.5  ,  -2278712.8  , ...,\n",
       "          -7313225.5  ,  -6351675.   ,  -5308096.5  ]]], dtype=float32)>"
      ]
     },
     "execution_count": 471,
     "metadata": {},
     "output_type": "execute_result"
    }
   ],
   "source": [
    "X_train"
   ]
  },
  {
   "cell_type": "code",
   "execution_count": 472,
   "metadata": {},
   "outputs": [
    {
     "data": {
      "text/plain": [
       "<tf.Tensor: shape=(38, 2), dtype=int32, numpy=\n",
       "array([[1, 0],\n",
       "       [1, 0],\n",
       "       [1, 0],\n",
       "       [1, 0],\n",
       "       [1, 0],\n",
       "       [1, 0],\n",
       "       [0, 1],\n",
       "       [1, 0],\n",
       "       [1, 0],\n",
       "       [0, 1],\n",
       "       [1, 0],\n",
       "       [0, 1],\n",
       "       [0, 1],\n",
       "       [1, 0],\n",
       "       [0, 1],\n",
       "       [1, 0],\n",
       "       [0, 1],\n",
       "       [0, 1],\n",
       "       [1, 0],\n",
       "       [1, 0],\n",
       "       [1, 0],\n",
       "       [0, 1],\n",
       "       [0, 1],\n",
       "       [0, 1],\n",
       "       [1, 0],\n",
       "       [0, 1],\n",
       "       [0, 1],\n",
       "       [0, 1],\n",
       "       [0, 1],\n",
       "       [1, 0],\n",
       "       [1, 0],\n",
       "       [0, 1],\n",
       "       [1, 0],\n",
       "       [0, 1],\n",
       "       [0, 1],\n",
       "       [0, 1],\n",
       "       [1, 0],\n",
       "       [0, 1]])>"
      ]
     },
     "execution_count": 472,
     "metadata": {},
     "output_type": "execute_result"
    }
   ],
   "source": [
    "y_train"
   ]
  },
  {
   "attachments": {},
   "cell_type": "markdown",
   "metadata": {},
   "source": [
    "### **Create a model**"
   ]
  },
  {
   "cell_type": "code",
   "execution_count": 473,
   "metadata": {},
   "outputs": [
    {
     "name": "stdout",
     "output_type": "stream",
     "text": [
      "Model: \"model_31\"\n",
      "_________________________________________________________________\n",
      " Layer (type)                Output Shape              Param #   \n",
      "=================================================================\n",
      " input_38 (InputLayer)       [(None, 5, 1251)]         0         \n",
      "                                                                 \n",
      " conv1d_38 (Conv1D)          (None, 3, 128)            480512    \n",
      "                                                                 \n",
      " batch_normalization_24 (Bat  (None, 3, 128)           512       \n",
      " chNormalization)                                                \n",
      "                                                                 \n",
      " max_pooling1d_30 (MaxPoolin  (None, 1, 128)           0         \n",
      " g1D)                                                            \n",
      "                                                                 \n",
      " dropout_22 (Dropout)        (None, 1, 128)            0         \n",
      "                                                                 \n",
      " dense_82 (Dense)            (None, 1, 64)             8256      \n",
      "                                                                 \n",
      " flatten_28 (Flatten)        (None, 64)                0         \n",
      "                                                                 \n",
      " dropout_23 (Dropout)        (None, 64)                0         \n",
      "                                                                 \n",
      " dense_83 (Dense)            (None, 32)                2080      \n",
      "                                                                 \n",
      " dense_84 (Dense)            (None, 2)                 66        \n",
      "                                                                 \n",
      "=================================================================\n",
      "Total params: 491,426\n",
      "Trainable params: 491,170\n",
      "Non-trainable params: 256\n",
      "_________________________________________________________________\n"
     ]
    },
    {
     "data": {
      "image/png": "[encoded data removed]",
      "text/plain": [
       "<IPython.core.display.Image object>"
      ]
     },
     "execution_count": 473,
     "metadata": {},
     "output_type": "execute_result"
    }
   ],
   "source": [
    "input_shape = Input(shape=(X_train.shape[1], X_train.shape[2]))\n",
    "x = Conv1D(128, 3, activation='relu')(input_shape)\n",
    "x = BatchNormalization()(x)\n",
    "x = MaxPooling1D(2)(x)\n",
    "x = Dropout(0.2)(x)\n",
    "x = Dense(64, activation='relu')(x)\n",
    "x = Flatten()(x)\n",
    "x = Dropout(0.2)(x)\n",
    "x = Dense(32, activation='relu')(x)\n",
    "output = Dense(2, activation='softmax')(x)\n",
    "model = Model(inputs=input_shape, outputs=output)\n",
    "model.compile(optimizer='adam', loss='categorical_crossentropy', metrics=['accuracy'])\n",
    "model.summary()\n",
    "plot_model(model, show_shapes=True)"
   ]
  },
  {
   "cell_type": "code",
   "execution_count": 474,
   "metadata": {},
   "outputs": [
    {
     "name": "stdout",
     "output_type": "stream",
     "text": [
      "Epoch 1/3\n",
      "10/10 [==============================] - 2s 9ms/step - loss: 0.8120 - accuracy: 0.6316\n",
      "Epoch 2/3\n",
      "10/10 [==============================] - 0s 10ms/step - loss: 0.4036 - accuracy: 0.7895\n",
      "Epoch 3/3\n",
      "10/10 [==============================] - 0s 11ms/step - loss: 0.2200 - accuracy: 0.9474\n"
     ]
    },
    {
     "data": {
      "text/plain": [
       "<keras.callbacks.History at 0x1f611795d60>"
      ]
     },
     "execution_count": 474,
     "metadata": {},
     "output_type": "execute_result"
    }
   ],
   "source": [
    "model.fit(X_train, y_train, epochs=3, batch_size=4)"
   ]
  },
  {
   "attachments": {},
   "cell_type": "markdown",
   "metadata": {},
   "source": [
    "### **Evaluate the model**"
   ]
  },
  {
   "cell_type": "code",
   "execution_count": 475,
   "metadata": {},
   "outputs": [
    {
     "name": "stdout",
     "output_type": "stream",
     "text": [
      "1/1 [==============================] - 0s 164ms/step\n"
     ]
    },
    {
     "data": {
      "text/plain": [
       "array([[1.08638528e-06, 9.99998927e-01],\n",
       "       [9.79493439e-01, 2.05065627e-02],\n",
       "       [9.16130364e-01, 8.38696063e-02],\n",
       "       [8.03550005e-01, 1.96449995e-01],\n",
       "       [1.04084225e-04, 9.99895930e-01],\n",
       "       [5.21297334e-04, 9.99478757e-01],\n",
       "       [1.16377193e-02, 9.88362253e-01],\n",
       "       [1.56506183e-04, 9.99843478e-01],\n",
       "       [9.99853611e-01, 1.46387305e-04],\n",
       "       [4.43555275e-03, 9.95564461e-01]], dtype=float32)"
      ]
     },
     "execution_count": 475,
     "metadata": {},
     "output_type": "execute_result"
    }
   ],
   "source": [
    "predictions = model.predict(X_test)\n",
    "predictions"
   ]
  },
  {
   "cell_type": "code",
   "execution_count": 476,
   "metadata": {},
   "outputs": [
    {
     "data": {
      "text/plain": [
       "array([1, 0, 0, 0, 1, 1, 1, 1, 0, 1], dtype=int64)"
      ]
     },
     "execution_count": 476,
     "metadata": {},
     "output_type": "execute_result"
    }
   ],
   "source": [
    "# Convert predictions to binary\n",
    "predictions = np.argmax(predictions, axis=1)\n",
    "predictions"
   ]
  },
  {
   "cell_type": "code",
   "execution_count": 477,
   "metadata": {},
   "outputs": [
    {
     "name": "stdout",
     "output_type": "stream",
     "text": [
      "              precision    recall  f1-score   support\n",
      "\n",
      "           0       1.00      0.80      0.89         5\n",
      "           1       0.83      1.00      0.91         5\n",
      "\n",
      "    accuracy                           0.90        10\n",
      "   macro avg       0.92      0.90      0.90        10\n",
      "weighted avg       0.92      0.90      0.90        10\n",
      "\n"
     ]
    }
   ],
   "source": [
    "# Classification report\n",
    "print(classification_report(np.argmax(y_test, axis=1), predictions))"
   ]
  }
 ],
 "metadata": {
  "kernelspec": {
   "display_name": "mne",
   "language": "python",
   "name": "python3"
  },
  "language_info": {
   "codemirror_mode": {
    "name": "ipython",
    "version": 3
   },
   "file_extension": ".py",
   "mimetype": "text/x-python",
   "name": "python",
   "nbconvert_exporter": "python",
   "pygments_lexer": "ipython3",
   "version": "3.9.5"
  },
  "orig_nbformat": 4
 },
 "nbformat": 4,
 "nbformat_minor": 2
}
