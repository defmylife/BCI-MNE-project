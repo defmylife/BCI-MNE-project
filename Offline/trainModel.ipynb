{
 "cells": [
  {
   "attachments": {},
   "cell_type": "markdown",
   "metadata": {},
   "source": [
    "## **Import Libraries**"
   ]
  },
  {
   "cell_type": "code",
   "execution_count": 2,
   "metadata": {},
   "outputs": [],
   "source": [
    "import mne\n",
    "\n",
    "# Utility\n",
    "import pandas as pd\n",
    "import numpy as np\n",
    "import matplotlib.pyplot as plt\n",
    "import tensorflow as tf\n",
    "import seaborn as sns\n",
    "import os\n",
    "%matplotlib inline\n",
    "import warnings\n",
    "warnings.filterwarnings('ignore')\n",
    "from tqdm.auto import tqdm\n",
    "\n",
    "from utilities import read_xdf, epoching\n",
    "\n",
    "np.random.seed(42)"
   ]
  },
  {
   "cell_type": "code",
   "execution_count": 35,
   "metadata": {},
   "outputs": [],
   "source": [
    "# Train model\n",
    "from collections import OrderedDict\n",
    "from keras.callbacks import EarlyStopping\n",
    "from keras.callbacks import ModelCheckpoint\n",
    "from time import time\n",
    "from datetime import timedelta\n",
    "import keras\n",
    "from keras.models import load_model\n",
    "import os\n",
    "from keras.utils import plot_model\n",
    "\n",
    "# Build model\n",
    "from keras.models import Sequential, Model\n",
    "from keras.layers import Embedding, Reshape, Activation, Input, Dense,GRU,Reshape,TimeDistributed,Bidirectional,Dropout,Masking,LSTM, GlobalAveragePooling1D, Conv1D, MaxPooling1D, Flatten,GlobalMaxPooling1D\n",
    "from keras.layers import Concatenate, Lambda, Reshape, RepeatVector,Multiply, BatchNormalization\n",
    "from keras.optimizers import Adam\n",
    "from keras import backend as K                                                          \n",
    "from keras.callbacks import ModelCheckpoint, TensorBoard\n",
    "from sklearn.pipeline import make_pipeline\n",
    "from sklearn.linear_model import LogisticRegression\n",
    "from sklearn.preprocessing import StandardScaler\n",
    "from sklearn.discriminant_analysis import LinearDiscriminantAnalysis as LDA\n",
    "from pyriemann.estimation import Covariances, ERPCovariances, XdawnCovariances\n",
    "from pyriemann.spatialfilters import CSP\n",
    "from pyriemann.tangentspace import TangentSpace\n",
    "from pyriemann.classification import MDM\n",
    "\n",
    "# Classifications report\n",
    "from sklearn.metrics import classification_report, confusion_matrix, ConfusionMatrixDisplay ,multilabel_confusion_matrix, accuracy_score\n",
    "from sklearn.model_selection import cross_validate, cross_val_score, StratifiedShuffleSplit"
   ]
  },
  {
   "attachments": {},
   "cell_type": "markdown",
   "metadata": {},
   "source": [
    "## **Load Data**"
   ]
  },
  {
   "attachments": {},
   "cell_type": "markdown",
   "metadata": {},
   "source": [
    "### From XDF file"
   ]
  },
  {
   "cell_type": "code",
   "execution_count": 4,
   "metadata": {},
   "outputs": [],
   "source": [
    "annotations_des = {\n",
    "    '1': 'Left cue start',\n",
    "    '2': 'Left stimuli start',\n",
    "    '3': 'Left blank start',\n",
    "    '4': 'Right cue start',\n",
    "    '5': 'Right stimuli start',\n",
    "    '6': 'Right blank start',\n",
    "}"
   ]
  },
  {
   "cell_type": "code",
   "execution_count": 5,
   "metadata": {},
   "outputs": [
    {
     "name": "stdout",
     "output_type": "stream",
     "text": [
      "Creating RawArray with float64 data, n_channels=8, n_times=50520\n",
      "    Range : 0 ... 50519 =      0.000 ...   201.994 secs\n",
      "Ready.\n",
      "Filtering raw data in 1 contiguous segment\n",
      "Setting up band-pass filter from 4 - 12 Hz\n",
      "\n",
      "FIR filter parameters\n",
      "---------------------\n",
      "Designing a one-pass, zero-phase, non-causal bandpass filter:\n",
      "- Windowed time-domain design (firwin) method\n",
      "- Hamming window with 0.0194 passband ripple and 53 dB stopband attenuation\n",
      "- Lower passband edge: 4.00\n",
      "- Lower transition bandwidth: 2.00 Hz (-6 dB cutoff frequency: 3.00 Hz)\n",
      "- Upper passband edge: 12.00 Hz\n",
      "- Upper transition bandwidth: 3.00 Hz (-6 dB cutoff frequency: 13.50 Hz)\n",
      "- Filter length: 413 samples (1.651 sec)\n",
      "\n",
      "Used Annotations descriptions: ['1', '2', '3', '4', '5', '6']\n"
     ]
    },
    {
     "name": "stderr",
     "output_type": "stream",
     "text": [
      "[Parallel(n_jobs=1)]: Using backend SequentialBackend with 1 concurrent workers.\n",
      "[Parallel(n_jobs=1)]: Done   1 out of   1 | elapsed:    0.0s remaining:    0.0s\n",
      "[Parallel(n_jobs=1)]: Done   2 out of   2 | elapsed:    0.0s remaining:    0.0s\n",
      "[Parallel(n_jobs=1)]: Done   3 out of   3 | elapsed:    0.0s remaining:    0.0s\n",
      "[Parallel(n_jobs=1)]: Done   4 out of   4 | elapsed:    0.0s remaining:    0.0s\n",
      "[Parallel(n_jobs=1)]: Done   8 out of   8 | elapsed:    0.0s finished\n"
     ]
    },
    {
     "name": "stdout",
     "output_type": "stream",
     "text": [
      "Not setting metadata\n",
      "48 matching events found\n",
      "Applying baseline correction (mode: mean)\n",
      "0 projection items activated\n",
      "Using data from preloaded Raw for 48 events and 1252 original time points ...\n",
      "0 bad epochs dropped\n",
      "Effective window size : 1.024 (s)\n",
      "Used Annotations descriptions: ['1', '2', '3', '4', '5', '6']\n",
      "Not setting metadata\n",
      "48 matching events found\n",
      "Applying baseline correction (mode: mean)\n",
      "0 projection items activated\n",
      "Using data from preloaded Raw for 48 events and 1251 original time points ...\n",
      "1 bad epochs dropped\n",
      "Effective window size : 1.024 (s)\n",
      "Creating RawArray with float64 data, n_channels=8, n_times=49650\n",
      "    Range : 0 ... 49649 =      0.000 ...   198.521 secs\n",
      "Ready.\n",
      "Filtering raw data in 1 contiguous segment\n",
      "Setting up band-pass filter from 4 - 12 Hz\n",
      "\n",
      "FIR filter parameters\n",
      "---------------------\n",
      "Designing a one-pass, zero-phase, non-causal bandpass filter:\n",
      "- Windowed time-domain design (firwin) method\n",
      "- Hamming window with 0.0194 passband ripple and 53 dB stopband attenuation\n",
      "- Lower passband edge: 4.00\n",
      "- Lower transition bandwidth: 2.00 Hz (-6 dB cutoff frequency: 3.00 Hz)\n",
      "- Upper passband edge: 12.00 Hz\n",
      "- Upper transition bandwidth: 3.00 Hz (-6 dB cutoff frequency: 13.50 Hz)\n",
      "- Filter length: 413 samples (1.651 sec)\n",
      "\n",
      "Used Annotations descriptions: ['1', '2', '3', '4', '5', '6']\n",
      "Not setting metadata\n",
      "48 matching events found\n",
      "Applying baseline correction (mode: mean)\n",
      "0 projection items activated\n",
      "Using data from preloaded Raw for 48 events and 1251 original time points ...\n",
      "1 bad epochs dropped\n",
      "Effective window size : 1.024 (s)\n",
      "Used Annotations descriptions: ['1', '2', '3', '4', '5', '6']\n",
      "Not setting metadata\n",
      "48 matching events found\n",
      "Applying baseline correction (mode: mean)\n",
      "0 projection items activated\n",
      "Using data from preloaded Raw for 48 events and 1252 original time points ...\n",
      "1 bad epochs dropped\n",
      "Effective window size : 1.024 (s)\n"
     ]
    },
    {
     "name": "stderr",
     "output_type": "stream",
     "text": [
      "[Parallel(n_jobs=1)]: Using backend SequentialBackend with 1 concurrent workers.\n",
      "[Parallel(n_jobs=1)]: Done   1 out of   1 | elapsed:    0.0s remaining:    0.0s\n",
      "[Parallel(n_jobs=1)]: Done   2 out of   2 | elapsed:    0.0s remaining:    0.0s\n",
      "[Parallel(n_jobs=1)]: Done   3 out of   3 | elapsed:    0.0s remaining:    0.0s\n",
      "[Parallel(n_jobs=1)]: Done   4 out of   4 | elapsed:    0.0s remaining:    0.0s\n",
      "[Parallel(n_jobs=1)]: Done   8 out of   8 | elapsed:    0.0s finished\n"
     ]
    },
    {
     "name": "stdout",
     "output_type": "stream",
     "text": [
      "Creating RawArray with float64 data, n_channels=8, n_times=52020\n",
      "    Range : 0 ... 52019 =      0.000 ...   208.006 secs\n",
      "Ready.\n",
      "Filtering raw data in 1 contiguous segment\n",
      "Setting up band-pass filter from 4 - 12 Hz\n",
      "\n",
      "FIR filter parameters\n",
      "---------------------\n",
      "Designing a one-pass, zero-phase, non-causal bandpass filter:\n",
      "- Windowed time-domain design (firwin) method\n",
      "- Hamming window with 0.0194 passband ripple and 53 dB stopband attenuation\n",
      "- Lower passband edge: 4.00\n",
      "- Lower transition bandwidth: 2.00 Hz (-6 dB cutoff frequency: 3.00 Hz)\n",
      "- Upper passband edge: 12.00 Hz\n",
      "- Upper transition bandwidth: 3.00 Hz (-6 dB cutoff frequency: 13.50 Hz)\n",
      "- Filter length: 413 samples (1.651 sec)\n",
      "\n",
      "Used Annotations descriptions: ['1', '2', '3', '4', '5', '6']\n",
      "Not setting metadata\n",
      "48 matching events found\n",
      "Applying baseline correction (mode: mean)\n",
      "0 projection items activated\n",
      "Using data from preloaded Raw for 48 events and 1251 original time points ...\n",
      "0 bad epochs dropped\n",
      "Effective window size : 1.024 (s)\n",
      "Used Annotations descriptions: ['1', '2', '3', '4', '5', '6']\n",
      "Not setting metadata\n",
      "48 matching events found\n",
      "Applying baseline correction (mode: mean)\n",
      "0 projection items activated\n",
      "Using data from preloaded Raw for 48 events and 1252 original time points ...\n",
      "0 bad epochs dropped\n",
      "Effective window size : 1.024 (s)\n"
     ]
    },
    {
     "name": "stderr",
     "output_type": "stream",
     "text": [
      "[Parallel(n_jobs=1)]: Using backend SequentialBackend with 1 concurrent workers.\n",
      "[Parallel(n_jobs=1)]: Done   1 out of   1 | elapsed:    0.0s remaining:    0.0s\n",
      "[Parallel(n_jobs=1)]: Done   2 out of   2 | elapsed:    0.0s remaining:    0.0s\n",
      "[Parallel(n_jobs=1)]: Done   3 out of   3 | elapsed:    0.0s remaining:    0.0s\n",
      "[Parallel(n_jobs=1)]: Done   4 out of   4 | elapsed:    0.0s remaining:    0.0s\n",
      "[Parallel(n_jobs=1)]: Done   8 out of   8 | elapsed:    0.0s finished\n"
     ]
    }
   ],
   "source": [
    "from utilities import read_xdf, epoching\n",
    "\n",
    "filenames = {'Pipo_1_5_test1.xdf', 'Pipo_1_5_test2.xdf', 'Pipo_1_5_test3.xdf'}\n",
    "\n",
    "X, F, t, y = [],[],[],[]\n",
    "for filename in filenames:\n",
    "\n",
    "    raw = read_xdf(filename, show_plot=False, show_psd=False, bandpass=(4.0, 12.0))\n",
    "\n",
    "    epochs = epoching(raw, show_psd=False,\n",
    "        show_eeg=False,  # set True if wanna see preview of all epoch\n",
    "        tmax=5)         # tmax=5 means set epoch duration 5 second\n",
    "\n",
    "    # Pick only event 2: Left stimuli, 5: Right stimuli\n",
    "    epochs = epochs['2','5']\n",
    "\n",
    "    X.append((  epochs.get_data() * 1e6)[:,:,:1250]) # select only first 1250 frames(approx 5 second)\n",
    "    F.append(   epochs.compute_psd(method='welch', fmax=30).get_data())\n",
    "    t.append((  epochs.times)[:1250])                # select only first 1250 frames(approx 5 second)\n",
    "    y.append(   epochs.events[:, -1])\n",
    "\n",
    "    epochs = epoching(raw, show_psd=False,\n",
    "        show_eeg=False,  # set True if wanna see preview of all epoch\n",
    "        baseline=(5,10),\n",
    "        tmin=5,\n",
    "        tmax=10)         # tmax=5 means set epoch duration 5 second\n",
    "\n",
    "    # Pick only event 2: Left stimuli, 5: Right stimuli\n",
    "    epochs = epochs['2','5']\n",
    "\n",
    "    X.append((  epochs.get_data() * 1e6)[:,:,:1250]) # select only first 1250 frames(approx 5 second)\n",
    "    F.append(   epochs.compute_psd(method='welch', fmax=30).get_data())\n",
    "    t.append((  epochs.times)[:1250])                # select only first 1250 frames(approx 5 second)\n",
    "    y.append(   epochs.events[:, -1])\n",
    "\n",
    "# Concatenate all data\n",
    "X = np.concatenate(X)\n",
    "F = np.concatenate(F)\n",
    "t = np.concatenate(t)\n",
    "y = np.concatenate(y)"
   ]
  },
  {
   "cell_type": "code",
   "execution_count": 6,
   "metadata": {},
   "outputs": [
    {
     "data": {
      "text/plain": [
       "((96, 5, 1250), (96, 5, 31), (7500,), (96,))"
      ]
     },
     "execution_count": 6,
     "metadata": {},
     "output_type": "execute_result"
    }
   ],
   "source": [
    "X.shape, F.shape, t.shape, y.shape"
   ]
  },
  {
   "cell_type": "code",
   "execution_count": 9,
   "metadata": {},
   "outputs": [],
   "source": [
    "# One hot encoding\n",
    "from sklearn.preprocessing import OneHotEncoder\n",
    "\n",
    "enc = OneHotEncoder()\n",
    "Y = enc.fit_transform(y.reshape(-1, 1)).toarray()\n",
    "# Y = y.copy()\n",
    "# mp = {2:0, 5:1}\n",
    "# for i in range(len(Y)):\n",
    "#     Y[i] = mp[Y[i]]"
   ]
  },
  {
   "cell_type": "code",
   "execution_count": 10,
   "metadata": {},
   "outputs": [
    {
     "data": {
      "text/plain": [
       "((96, 5, 1250), (96, 5, 31), (7500,), (96, 2))"
      ]
     },
     "execution_count": 10,
     "metadata": {},
     "output_type": "execute_result"
    }
   ],
   "source": [
    "X.shape, F.shape, t.shape, Y.shape"
   ]
  },
  {
   "attachments": {},
   "cell_type": "markdown",
   "metadata": {},
   "source": [
    "### From CSV file"
   ]
  },
  {
   "cell_type": "code",
   "execution_count": 27,
   "metadata": {},
   "outputs": [
    {
     "data": {
      "text/html": [
       "<div>\n",
       "<style scoped>\n",
       "    .dataframe tbody tr th:only-of-type {\n",
       "        vertical-align: middle;\n",
       "    }\n",
       "\n",
       "    .dataframe tbody tr th {\n",
       "        vertical-align: top;\n",
       "    }\n",
       "\n",
       "    .dataframe thead th {\n",
       "        text-align: right;\n",
       "    }\n",
       "</style>\n",
       "<table border=\"1\" class=\"dataframe\">\n",
       "  <thead>\n",
       "    <tr style=\"text-align: right;\">\n",
       "      <th></th>\n",
       "      <th>time</th>\n",
       "      <th>condition</th>\n",
       "      <th>epoch</th>\n",
       "      <th>obci_eeg1_1</th>\n",
       "      <th>obci_eeg1_2</th>\n",
       "      <th>obci_eeg1_3</th>\n",
       "      <th>obci_eeg1_4</th>\n",
       "      <th>obci_eeg1_5</th>\n",
       "      <th>label</th>\n",
       "    </tr>\n",
       "  </thead>\n",
       "  <tbody>\n",
       "    <tr>\n",
       "      <th>0</th>\n",
       "      <td>4.842162</td>\n",
       "      <td>2</td>\n",
       "      <td>46</td>\n",
       "      <td>6.016688e+06</td>\n",
       "      <td>5.907060e+05</td>\n",
       "      <td>2.317239e+06</td>\n",
       "      <td>5.115647e+06</td>\n",
       "      <td>3.348605e+06</td>\n",
       "      <td>left</td>\n",
       "    </tr>\n",
       "    <tr>\n",
       "      <th>1</th>\n",
       "      <td>4.986108</td>\n",
       "      <td>5</td>\n",
       "      <td>43</td>\n",
       "      <td>6.081990e+06</td>\n",
       "      <td>2.973919e+06</td>\n",
       "      <td>1.753824e+06</td>\n",
       "      <td>2.425596e+06</td>\n",
       "      <td>7.638529e+05</td>\n",
       "      <td>right</td>\n",
       "    </tr>\n",
       "    <tr>\n",
       "      <th>2</th>\n",
       "      <td>1.311467</td>\n",
       "      <td>2</td>\n",
       "      <td>13</td>\n",
       "      <td>9.685057e+06</td>\n",
       "      <td>1.466573e+07</td>\n",
       "      <td>9.169258e+06</td>\n",
       "      <td>5.183600e+06</td>\n",
       "      <td>9.104924e+05</td>\n",
       "      <td>left</td>\n",
       "    </tr>\n",
       "    <tr>\n",
       "      <th>3</th>\n",
       "      <td>5.813636</td>\n",
       "      <td>2</td>\n",
       "      <td>13</td>\n",
       "      <td>8.779035e+06</td>\n",
       "      <td>1.110653e+07</td>\n",
       "      <td>8.347606e+06</td>\n",
       "      <td>5.236361e+06</td>\n",
       "      <td>3.550461e+05</td>\n",
       "      <td>left</td>\n",
       "    </tr>\n",
       "    <tr>\n",
       "      <th>4</th>\n",
       "      <td>9.672068</td>\n",
       "      <td>2</td>\n",
       "      <td>13</td>\n",
       "      <td>-4.624806e+06</td>\n",
       "      <td>-4.530194e+06</td>\n",
       "      <td>-6.800515e+06</td>\n",
       "      <td>-2.772920e+06</td>\n",
       "      <td>1.029761e+06</td>\n",
       "      <td>left</td>\n",
       "    </tr>\n",
       "    <tr>\n",
       "      <th>...</th>\n",
       "      <td>...</td>\n",
       "      <td>...</td>\n",
       "      <td>...</td>\n",
       "      <td>...</td>\n",
       "      <td>...</td>\n",
       "      <td>...</td>\n",
       "      <td>...</td>\n",
       "      <td>...</td>\n",
       "      <td>...</td>\n",
       "    </tr>\n",
       "    <tr>\n",
       "      <th>108081</th>\n",
       "      <td>5.097927</td>\n",
       "      <td>2</td>\n",
       "      <td>34</td>\n",
       "      <td>-1.117426e+07</td>\n",
       "      <td>-2.705433e+06</td>\n",
       "      <td>-8.613340e+06</td>\n",
       "      <td>-1.000741e+07</td>\n",
       "      <td>-7.874929e+06</td>\n",
       "      <td>left</td>\n",
       "    </tr>\n",
       "    <tr>\n",
       "      <th>108082</th>\n",
       "      <td>5.529901</td>\n",
       "      <td>2</td>\n",
       "      <td>34</td>\n",
       "      <td>6.952308e+06</td>\n",
       "      <td>-2.049482e+06</td>\n",
       "      <td>-1.450021e+06</td>\n",
       "      <td>1.313311e+06</td>\n",
       "      <td>3.384785e+06</td>\n",
       "      <td>left</td>\n",
       "    </tr>\n",
       "    <tr>\n",
       "      <th>108083</th>\n",
       "      <td>0.679771</td>\n",
       "      <td>5</td>\n",
       "      <td>25</td>\n",
       "      <td>-2.051936e+07</td>\n",
       "      <td>-1.583086e+07</td>\n",
       "      <td>-1.313489e+07</td>\n",
       "      <td>-9.706165e+06</td>\n",
       "      <td>-1.305043e+06</td>\n",
       "      <td>right</td>\n",
       "    </tr>\n",
       "    <tr>\n",
       "      <th>108084</th>\n",
       "      <td>5.409947</td>\n",
       "      <td>5</td>\n",
       "      <td>16</td>\n",
       "      <td>9.557269e+06</td>\n",
       "      <td>7.150896e+06</td>\n",
       "      <td>7.376946e+06</td>\n",
       "      <td>1.495488e+07</td>\n",
       "      <td>1.600492e+07</td>\n",
       "      <td>right</td>\n",
       "    </tr>\n",
       "    <tr>\n",
       "      <th>108085</th>\n",
       "      <td>4.698217</td>\n",
       "      <td>5</td>\n",
       "      <td>28</td>\n",
       "      <td>6.202009e+06</td>\n",
       "      <td>3.050476e+06</td>\n",
       "      <td>6.879641e+06</td>\n",
       "      <td>1.996335e+06</td>\n",
       "      <td>2.428809e+06</td>\n",
       "      <td>right</td>\n",
       "    </tr>\n",
       "  </tbody>\n",
       "</table>\n",
       "<p>108086 rows × 9 columns</p>\n",
       "</div>"
      ],
      "text/plain": [
       "            time  condition  epoch   obci_eeg1_1   obci_eeg1_2   obci_eeg1_3  \\\n",
       "0       4.842162          2     46  6.016688e+06  5.907060e+05  2.317239e+06   \n",
       "1       4.986108          5     43  6.081990e+06  2.973919e+06  1.753824e+06   \n",
       "2       1.311467          2     13  9.685057e+06  1.466573e+07  9.169258e+06   \n",
       "3       5.813636          2     13  8.779035e+06  1.110653e+07  8.347606e+06   \n",
       "4       9.672068          2     13 -4.624806e+06 -4.530194e+06 -6.800515e+06   \n",
       "...          ...        ...    ...           ...           ...           ...   \n",
       "108081  5.097927          2     34 -1.117426e+07 -2.705433e+06 -8.613340e+06   \n",
       "108082  5.529901          2     34  6.952308e+06 -2.049482e+06 -1.450021e+06   \n",
       "108083  0.679771          5     25 -2.051936e+07 -1.583086e+07 -1.313489e+07   \n",
       "108084  5.409947          5     16  9.557269e+06  7.150896e+06  7.376946e+06   \n",
       "108085  4.698217          5     28  6.202009e+06  3.050476e+06  6.879641e+06   \n",
       "\n",
       "         obci_eeg1_4   obci_eeg1_5  label  \n",
       "0       5.115647e+06  3.348605e+06   left  \n",
       "1       2.425596e+06  7.638529e+05  right  \n",
       "2       5.183600e+06  9.104924e+05   left  \n",
       "3       5.236361e+06  3.550461e+05   left  \n",
       "4      -2.772920e+06  1.029761e+06   left  \n",
       "...              ...           ...    ...  \n",
       "108081 -1.000741e+07 -7.874929e+06   left  \n",
       "108082  1.313311e+06  3.384785e+06   left  \n",
       "108083 -9.706165e+06 -1.305043e+06  right  \n",
       "108084  1.495488e+07  1.600492e+07  right  \n",
       "108085  1.996335e+06  2.428809e+06  right  \n",
       "\n",
       "[108086 rows x 9 columns]"
      ]
     },
     "execution_count": 27,
     "metadata": {},
     "output_type": "execute_result"
    }
   ],
   "source": [
    "# Load data\n",
    "df = pd.read_csv('data/epochs.csv')\n",
    "\n",
    "# Split data into training and testing sets\n",
    "train_dataset = df.sample(frac=0.9,random_state=0)\n",
    "test_dataset = df.drop(train_dataset.index).sample(frac=1.0,random_state=0)\n",
    "\n",
    "train_dataset.reset_index(drop=True, inplace=True)\n",
    "test_dataset.reset_index(drop=True, inplace=True)\n",
    "\n",
    "train_dataset"
   ]
  },
  {
   "attachments": {},
   "cell_type": "markdown",
   "metadata": {},
   "source": [
    "## **Cross-validation**: evaluating estimator performance\n",
    "\n",
    "💡 [scikit-learn](https://scikit-learn.org/stable/modules/cross_validation.html#cross-validation-evaluating-estimator-performance) |\n",
    "[scikeras](https://machinelearningmastery.com/use-keras-deep-learning-models-scikit-learn-python/)"
   ]
  },
  {
   "attachments": {},
   "cell_type": "markdown",
   "metadata": {},
   "source": [
    "### 5-different machine learning pipelines"
   ]
  },
  {
   "attachments": {},
   "cell_type": "markdown",
   "metadata": {},
   "source": [
    "💡 [EEG Notebook](https://neurotechx.github.io/eeg-notebooks/auto_examples/visual_ssvep/02r__ssvep_decoding.html)"
   ]
  },
  {
   "cell_type": "code",
   "execution_count": null,
   "metadata": {},
   "outputs": [],
   "source": [
    "# Next, we will use 5 different machine learning pipelines to classify the SSVEP based on the data we collected. The\n",
    "\n",
    "# - CSP + RegLDA : Common Spatial Patterns + Regularized Linear Discriminat Analysis. This is a very common EEG analysis pipeline.\n",
    "# - Cov + TS : Covariance + Tangent space mapping. One of the most reliable Riemannian geometry-based pipelines.\n",
    "# - Cov + MDM: Covariance + MDM. A very simple, yet effective (for low channel count), Riemannian geometry classifier.\n",
    "# - CSP + Cov + TS: Common Spatial Patterns + Covariance + Tangent spacem mapping. Riemannian pipeline with the standard CSP procedure beforehand\n",
    "# - CNN: \n",
    "\n",
    "# Evaluation is done through cross-validation, with area-under-the-curve (AUC) as metric (AUC is probably the best metric for binary and unbalanced classification problem)\n",
    "\n",
    "# Note: because we're doing machine learning here, the following cell may take a while to complete\n",
    "\n",
    "clfs = OrderedDict()\n",
    "clfs['CSP + RegLDA'] = make_pipeline(Covariances(), CSP(4), LDA(shrinkage='auto', solver='eigen'))\n",
    "clfs['Cov + TS'] = make_pipeline(Covariances(), TangentSpace(), LogisticRegression())\n",
    "clfs['Cov + MDM'] = make_pipeline(Covariances(), MDM())\n",
    "clfs['CSP + Cov + TS'] = make_pipeline(Covariances(), CSP(4, log=False), TangentSpace(), LogisticRegression())\n",
    "\n",
    "from models import CNNModel\n",
    "from scikeras.wrappers import KerasClassifier\n",
    "\n",
    "CNN = CNNModel()\n",
    "clfs['CNN'] = KerasClassifier(model=CNN.get_model(), epochs=10, batch_size=8, verbose=0)\n",
    "\n",
    "# define cross validation\n",
    "cv = StratifiedShuffleSplit(n_splits=20, test_size=0.25,\n",
    "                                        random_state=42)\n",
    "scoring = {'acc': 'accuracy',\n",
    "           'auc': 'roc_auc'}\n",
    "\n",
    "# run cross validation for each pipeline\n",
    "acc,auc = [],[]\n",
    "methods = []\n",
    "for m in tqdm(clfs):\n",
    "    # print(m)\n",
    "    res = cross_validate(clfs[m], X, y, scoring=scoring, cv=cv, n_jobs=-1)\n",
    "    # res = cross_val_score(clfs[m], X, y, scoring='roc_auc', cv=cv, n_jobs=-1)\n",
    "    '''res = {'fit_time': array([3.94812942, 3.98712373, 3.819134  , 3.88912916]),\n",
    "              'score_time': array([0.53296137, 0.5869596 , 0.53796363, 0.6069591 ]),\n",
    "              'test_acc': array([1.        , 0.95833333, 1.        , 1.        ]),\n",
    "              'test_auc': array([1., 1., 1., 1.])}'''\n",
    "    acc.extend(res['test_acc'])\n",
    "    auc.extend(res['test_auc'])\n",
    "    methods.extend([m]*len(res['score_time']))\n",
    "\n",
    "# res = cross_val_score(clfs_CNN, X, y, scoring='roc_auc',cv=cv, n_jobs=-1)\n",
    "# auc.extend(res)\n",
    "# methods.extend([m]*len(res))\n",
    "\n",
    "results = pd.DataFrame(data=auc, columns=['AUC'])\n",
    "results['Accuracy'] = acc\n",
    "results['Method'] = methods"
   ]
  },
  {
   "cell_type": "code",
   "execution_count": 65,
   "metadata": {},
   "outputs": [
    {
     "data": {
      "image/png": "[encoded data removed]",
      "text/plain": [
       "<Figure size 1200x300 with 2 Axes>"
      ]
     },
     "metadata": {},
     "output_type": "display_data"
    }
   ],
   "source": [
    "fig, ax = plt.subplots(ncols=2, figsize=[12,3])\n",
    "sns.barplot(data=results, x='AUC', y='Method', capsize=.2, ax=ax[0],\n",
    "        errorbar=('ci', 68),\n",
    "        # default ci=95 is ~1.96 standard errors, and ci=68 is ~1 standard error\n",
    "    )\n",
    "ax[0].set_xlim(0.7, 1); ax[0].set_title('AUC')\n",
    "sns.despine()\n",
    "\n",
    "# fig, ax = plt.subplot(2, figsize=[8,4])\n",
    "sns.barplot(data=results, x='Accuracy', y='Method', capsize=.2, ax=ax[1],\n",
    "        errorbar=('ci', 68),\n",
    "        # default ci=95 is ~1.96 standard errors, and ci=68 is ~1 standard error\n",
    "    )\n",
    "ax[1].set_xlim(0.7, 1); ax[1].set_title('Accuracy'); ax[1].set_yticks([])\n",
    "sns.despine()\n",
    "plt.show()"
   ]
  },
  {
   "attachments": {},
   "cell_type": "markdown",
   "metadata": {},
   "source": [
    "## **Training pipeline**"
   ]
  },
  {
   "attachments": {},
   "cell_type": "markdown",
   "metadata": {},
   "source": [
    "### Train Test Split"
   ]
  },
  {
   "cell_type": "code",
   "execution_count": 29,
   "metadata": {},
   "outputs": [],
   "source": [
    "from sklearn.model_selection import train_test_split\n",
    "\n",
    "X_train, X_test, y_train, y_test = train_test_split(X, y, test_size=0.2, random_state=42, shuffle=False)"
   ]
  },
  {
   "cell_type": "code",
   "execution_count": 30,
   "metadata": {},
   "outputs": [],
   "source": [
    "X_train = tf.convert_to_tensor(X_train, dtype=tf.float32)\n",
    "X_test = tf.convert_to_tensor(X_test, dtype=tf.float32)\n",
    "y_train = tf.convert_to_tensor(y_train, dtype=tf.int32)\n",
    "y_test = tf.convert_to_tensor(y_test, dtype=tf.int32)"
   ]
  },
  {
   "cell_type": "code",
   "execution_count": 31,
   "metadata": {},
   "outputs": [],
   "source": [
    "X_train_CNN, X_test_CNN, y_train_CNN, y_test_CNN = train_test_split(X, Y, test_size=0.2, random_state=42)\n",
    "\n",
    "X_train_CNN = tf.convert_to_tensor(X_train_CNN, dtype=tf.float32)\n",
    "X_test_CNN = tf.convert_to_tensor(X_test_CNN, dtype=tf.float32)\n",
    "y_train_CNN = tf.convert_to_tensor(y_train_CNN, dtype=tf.int32)\n",
    "y_test_CNN = tf.convert_to_tensor(y_test_CNN, dtype=tf.int32)"
   ]
  },
  {
   "attachments": {},
   "cell_type": "markdown",
   "metadata": {},
   "source": [
    "### **Create a model**"
   ]
  },
  {
   "cell_type": "code",
   "execution_count": 32,
   "metadata": {},
   "outputs": [],
   "source": [
    "from models import CNNModel"
   ]
  },
  {
   "cell_type": "code",
   "execution_count": 33,
   "metadata": {},
   "outputs": [
    {
     "name": "stdout",
     "output_type": "stream",
     "text": [
      "Model: \"CNNModel\"\n",
      "_________________________________________________________________\n",
      " Layer (type)                Output Shape              Param #   \n",
      "=================================================================\n",
      " input_layer (InputLayer)    [(None, 5, 1250)]         0         \n",
      "                                                                 \n",
      " conv1d_1 (Conv1D)           (None, 3, 128)            480128    \n",
      "                                                                 \n",
      " batch_norm_layer1 (BatchNor  (None, 3, 128)           512       \n",
      " malization)                                                     \n",
      "                                                                 \n",
      " maxpool_layer1 (MaxPooling1  (None, 1, 128)           0         \n",
      " D)                                                              \n",
      "                                                                 \n",
      " dropout_layer1 (Dropout)    (None, 1, 128)            0         \n",
      "                                                                 \n",
      " dense_layer1 (Dense)        (None, 1, 64)             8256      \n",
      "                                                                 \n",
      " fatten_layer1 (Flatten)     (None, 64)                0         \n",
      "                                                                 \n",
      " dropout_layer2 (Dropout)    (None, 64)                0         \n",
      "                                                                 \n",
      " dense_layer2 (Dense)        (None, 32)                2080      \n",
      "                                                                 \n",
      " output_layer (Dense)        (None, 1)                 33        \n",
      "                                                                 \n",
      "=================================================================\n",
      "Total params: 491,009\n",
      "Trainable params: 490,753\n",
      "Non-trainable params: 256\n",
      "_________________________________________________________________\n"
     ]
    }
   ],
   "source": [
    "CNN = CNNModel()\n",
    "CNN.model.summary()"
   ]
  },
  {
   "cell_type": "code",
   "execution_count": 34,
   "metadata": {},
   "outputs": [],
   "source": [
    "# CNN.model_train(X_train_CNN, y_train_CNN)\n",
    "CNN.load_weights('CNN.h5')"
   ]
  },
  {
   "cell_type": "code",
   "execution_count": 35,
   "metadata": {},
   "outputs": [
    {
     "name": "stdout",
     "output_type": "stream",
     "text": [
      "1/1 [==============================] - 0s 235ms/step\n"
     ]
    }
   ],
   "source": [
    "out = CNN.model_predict_classes(X_test_CNN)"
   ]
  },
  {
   "cell_type": "code",
   "execution_count": 36,
   "metadata": {},
   "outputs": [
    {
     "data": {
      "text/plain": [
       "[1, 0, 1, 1, 1, 0, 1, 0, 1, 1, 1, 0, 0, 1, 1, 1, 1, 1, 1, 1]"
      ]
     },
     "execution_count": 36,
     "metadata": {},
     "output_type": "execute_result"
    }
   ],
   "source": [
    "out"
   ]
  },
  {
   "attachments": {},
   "cell_type": "markdown",
   "metadata": {},
   "source": [
    "### **Evaluate the model**"
   ]
  },
  {
   "cell_type": "code",
   "execution_count": 37,
   "metadata": {},
   "outputs": [
    {
     "name": "stdout",
     "output_type": "stream",
     "text": [
      "1/1 [==============================] - 0s 21ms/step\n"
     ]
    },
    {
     "data": {
      "text/plain": [
       "array([[9.9398196e-01],\n",
       "       [1.7566620e-06],\n",
       "       [9.9983037e-01],\n",
       "       [9.9998677e-01],\n",
       "       [9.9923533e-01],\n",
       "       [2.3322612e-04],\n",
       "       [9.9896675e-01],\n",
       "       [5.6743014e-05],\n",
       "       [9.9638045e-01],\n",
       "       [9.9990696e-01],\n",
       "       [9.9713033e-01],\n",
       "       [1.0051390e-05],\n",
       "       [7.4121395e-05],\n",
       "       [9.7766441e-01],\n",
       "       [9.9996054e-01],\n",
       "       [9.9975502e-01],\n",
       "       [9.9908465e-01],\n",
       "       [9.9992508e-01],\n",
       "       [9.9993724e-01],\n",
       "       [9.9831343e-01]], dtype=float32)"
      ]
     },
     "execution_count": 37,
     "metadata": {},
     "output_type": "execute_result"
    }
   ],
   "source": [
    "predictions = CNN.model_predict(X_test_CNN)\n",
    "predictions"
   ]
  },
  {
   "cell_type": "code",
   "execution_count": 38,
   "metadata": {},
   "outputs": [
    {
     "name": "stdout",
     "output_type": "stream",
     "text": [
      "[[99.39819   ]\n",
      " [ 0.00017567]\n",
      " [99.98304   ]\n",
      " [99.99868   ]\n",
      " [99.92353   ]\n",
      " [ 0.02332261]\n",
      " [99.896675  ]\n",
      " [ 0.0056743 ]\n",
      " [99.63805   ]\n",
      " [99.99069   ]\n",
      " [99.713036  ]\n",
      " [ 0.00100514]\n",
      " [ 0.00741214]\n",
      " [97.76644   ]\n",
      " [99.996056  ]\n",
      " [99.9755    ]\n",
      " [99.90846   ]\n",
      " [99.99251   ]\n",
      " [99.99372   ]\n",
      " [99.831345  ]]\n"
     ]
    }
   ],
   "source": [
    "np.set_printoptions(suppress=True)\n",
    "print(predictions*100)"
   ]
  },
  {
   "cell_type": "code",
   "execution_count": 39,
   "metadata": {},
   "outputs": [],
   "source": [
    "# threshold x <= 0.2 -> 0 , x > 0.8 -> 1\n",
    "temp = []\n",
    "for pred in predictions:\n",
    "    if pred <= 0.2:\n",
    "        temp.append(0)\n",
    "    elif pred >= 0.8:\n",
    "        temp.append(1)\n",
    "    else:\n",
    "        temp.append(-1)\n"
   ]
  },
  {
   "cell_type": "code",
   "execution_count": 40,
   "metadata": {},
   "outputs": [
    {
     "data": {
      "text/plain": [
       "[1, 0, 1, 1, 1, 0, 1, 0, 1, 1, 1, 0, 0, 1, 1, 1, 1, 1, 1, 1]"
      ]
     },
     "execution_count": 40,
     "metadata": {},
     "output_type": "execute_result"
    }
   ],
   "source": [
    "temp"
   ]
  },
  {
   "cell_type": "code",
   "execution_count": 41,
   "metadata": {},
   "outputs": [
    {
     "data": {
      "text/plain": [
       "array([[1],\n",
       "       [0],\n",
       "       [1],\n",
       "       [1],\n",
       "       [1],\n",
       "       [0],\n",
       "       [1],\n",
       "       [0],\n",
       "       [1],\n",
       "       [1],\n",
       "       [1],\n",
       "       [0],\n",
       "       [0],\n",
       "       [1],\n",
       "       [1],\n",
       "       [1],\n",
       "       [1],\n",
       "       [1],\n",
       "       [1],\n",
       "       [1]])"
      ]
     },
     "execution_count": 41,
     "metadata": {},
     "output_type": "execute_result"
    }
   ],
   "source": [
    "# # Convert predictions to binary\n",
    "# predictions = np.argmax(predictions, axis=1)\n",
    "# predictions\n",
    "# Threshold predictions\n",
    "predictions = np.where(predictions > 0.5, 1, 0)\n",
    "predictions"
   ]
  },
  {
   "cell_type": "code",
   "execution_count": 42,
   "metadata": {},
   "outputs": [
    {
     "name": "stdout",
     "output_type": "stream",
     "text": [
      "              precision    recall  f1-score   support\n",
      "\n",
      "           0       1.00      0.83      0.91         6\n",
      "           1       0.93      1.00      0.97        14\n",
      "\n",
      "    accuracy                           0.95        20\n",
      "   macro avg       0.97      0.92      0.94        20\n",
      "weighted avg       0.95      0.95      0.95        20\n",
      "\n"
     ]
    }
   ],
   "source": [
    "# # Classification report\n",
    "print(classification_report(y_test_CNN, predictions))"
   ]
  },
  {
   "cell_type": "code",
   "execution_count": 43,
   "metadata": {},
   "outputs": [],
   "source": [
    "# CNN.model.save('CNN.h5')"
   ]
  }
 ],
 "metadata": {
  "kernelspec": {
   "display_name": "mne",
   "language": "python",
   "name": "python3"
  },
  "language_info": {
   "codemirror_mode": {
    "name": "ipython",
    "version": 3
   },
   "file_extension": ".py",
   "mimetype": "text/x-python",
   "name": "python",
   "nbconvert_exporter": "python",
   "pygments_lexer": "ipython3",
   "version": "3.9.5"
  },
  "orig_nbformat": 4
 },
 "nbformat": 4,
 "nbformat_minor": 2
}
