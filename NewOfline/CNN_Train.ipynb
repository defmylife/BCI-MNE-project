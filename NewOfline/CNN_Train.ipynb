{
 "cells": [
  {
   "attachments": {},
   "cell_type": "markdown",
   "metadata": {},
   "source": [
    "# **Import Libraries**"
   ]
  },
  {
   "cell_type": "code",
   "execution_count": 671,
   "metadata": {},
   "outputs": [],
   "source": [
    "import mne\n",
    "\n",
    "# Utility\n",
    "import pandas as pd\n",
    "import numpy as np\n",
    "import matplotlib.pyplot as plt\n",
    "import tensorflow as tf\n",
    "import seaborn as sns\n",
    "import os\n",
    "\n",
    "%matplotlib inline\n",
    "import warnings\n",
    "warnings.filterwarnings('ignore')\n",
    "from tqdm.auto import tqdm\n",
    "\n",
    "from utilities import read_xdf, epoching\n",
    "from models import CNNModel\n",
    "\n",
    "from sklearn.model_selection import train_test_split\n",
    "from sklearn.preprocessing import OneHotEncoder\n",
    "\n",
    "from sklearn.metrics import confusion_matrix, classification_report\n",
    "\n",
    "np.random.seed(42)"
   ]
  },
  {
   "attachments": {},
   "cell_type": "markdown",
   "metadata": {},
   "source": [
    "# **Load Data**"
   ]
  },
  {
   "cell_type": "code",
   "execution_count": 672,
   "metadata": {},
   "outputs": [],
   "source": [
    "annotations_des = {\n",
    "    '1': 'Left cue start',\n",
    "    '2': 'Left stimuli start',\n",
    "    '3': 'Left blank start',\n",
    "    '4': 'Right cue start',\n",
    "    '5': 'Right stimuli start',\n",
    "    '6': 'Right blank start',\n",
    "}"
   ]
  },
  {
   "cell_type": "code",
   "execution_count": 673,
   "metadata": {},
   "outputs": [],
   "source": [
    "def get_epoch(filenames):\n",
    "    # Define temporal variables\n",
    "    X, F, t, y = [],[],[],[]\n",
    "    for filename in filenames:\n",
    "        ##--------Get First 5 second--------##\n",
    "        raw = read_xdf(filename, show_plot=False, show_psd=False, verbose=False)\n",
    "        epochs = epoching(raw, show_psd=False,\n",
    "            show_eeg=False,  # set True if wanna see preview of all epoch\n",
    "            tmax=5)         # tmax=5 means set epoch duration 5 second\n",
    "        # Pick only event 2: Left stimuli, 5: Right stimuli\n",
    "        epochs = epochs['2','5']\n",
    "        X.append((  epochs.get_data())[:,:,:1250]) # select only first 1250 frames(approx 5 second)\n",
    "        F.append(   epochs.compute_psd(method='welch', fmax=30).get_data())\n",
    "        t.append((  epochs.times)[:1250])                # select only first 1250 frames(approx 5 second)\n",
    "        y.append(   epochs.events[:, -1])\n",
    "        ##--------Get Last 5 second--------##\n",
    "        epochs = epoching(raw, show_psd=False,\n",
    "            show_eeg=False,  # set True if wanna see preview of all epoch\n",
    "            baseline=(5,10),\n",
    "            tmin=5,\n",
    "            tmax=10)         # tmax=5 means set epoch duration 5 second\n",
    "        # Pick only event 2: Left stimuli, 5: Right stimuli\n",
    "        epochs = epochs['2','5']\n",
    "        X.append((  epochs.get_data())[:,:,:1250]) # select only first 1250 frames(approx 5 second)\n",
    "        F.append(   epochs.compute_psd(method='welch', fmax=30).get_data())\n",
    "        t.append((  epochs.times)[:1250])                # select only first 1250 frames(approx 5 second)\n",
    "        y.append(   epochs.events[:, -1])\n",
    "    # Concatenate all data\n",
    "    X = np.concatenate(X)\n",
    "    F = np.concatenate(F)\n",
    "    t = np.concatenate(t)\n",
    "    y = np.concatenate(y)\n",
    "    return X, F, t, y"
   ]
  },
  {
   "attachments": {},
   "cell_type": "markdown",
   "metadata": {},
   "source": [
    "## **Load Left Data**"
   ]
  },
  {
   "cell_type": "code",
   "execution_count": 674,
   "metadata": {},
   "outputs": [
    {
     "name": "stdout",
     "output_type": "stream",
     "text": [
      "Creating RawArray with float64 data, n_channels=8, n_times=51160\n",
      "    Range : 0 ... 51159 =      0.000 ...   204.541 secs\n",
      "Ready.\n",
      "Used Annotations descriptions: ['1', '2', '3', '4', '5', '6']\n",
      "Not setting metadata\n",
      "48 matching events found\n",
      "Applying baseline correction (mode: mean)\n",
      "0 projection items activated\n",
      "Using data from preloaded Raw for 48 events and 1252 original time points ...\n",
      "0 bad epochs dropped\n",
      "Effective window size : 5.006 (s)\n",
      "Used Annotations descriptions: ['1', '2', '3', '4', '5', '6']\n",
      "Not setting metadata\n",
      "48 matching events found\n",
      "Applying baseline correction (mode: mean)\n",
      "0 projection items activated\n",
      "Using data from preloaded Raw for 48 events and 1251 original time points ...\n",
      "1 bad epochs dropped\n",
      "Effective window size : 5.002 (s)\n"
     ]
    }
   ],
   "source": [
    "filenames = {'data/Pipo_6Hz_18_05.xdf'}\n",
    "\n",
    "Xl, Fl, tl, yl = get_epoch(filenames)"
   ]
  },
  {
   "cell_type": "code",
   "execution_count": 675,
   "metadata": {},
   "outputs": [
    {
     "data": {
      "text/plain": [
       "array([0, 0, 0, 0, 0, 0, 0, 0, 0, 0, 0, 0, 0, 0, 0, 0, 0, 0, 0, 0, 0, 0,\n",
       "       0, 0, 0, 0, 0, 0, 0, 0, 0, 0])"
      ]
     },
     "execution_count": 675,
     "metadata": {},
     "output_type": "execute_result"
    }
   ],
   "source": [
    "# Map label to 0\n",
    "yl = np.where(yl==2, 0, yl)\n",
    "yl = np.where(yl==5, 0, yl)\n",
    "yl"
   ]
  },
  {
   "attachments": {},
   "cell_type": "markdown",
   "metadata": {},
   "source": [
    "## **Load Right Data**"
   ]
  },
  {
   "cell_type": "code",
   "execution_count": 676,
   "metadata": {},
   "outputs": [
    {
     "name": "stdout",
     "output_type": "stream",
     "text": [
      "Creating RawArray with float64 data, n_channels=8, n_times=52650\n",
      "    Range : 0 ... 52649 =      0.000 ...   210.499 secs\n",
      "Ready.\n",
      "Used Annotations descriptions: ['1', '2', '3', '4', '5', '6']\n",
      "Not setting metadata\n",
      "48 matching events found\n",
      "Applying baseline correction (mode: mean)\n",
      "0 projection items activated\n",
      "Using data from preloaded Raw for 48 events and 1252 original time points ...\n",
      "0 bad epochs dropped\n",
      "Effective window size : 5.006 (s)\n",
      "Used Annotations descriptions: ['1', '2', '3', '4', '5', '6']\n",
      "Not setting metadata\n",
      "48 matching events found\n",
      "Applying baseline correction (mode: mean)\n",
      "0 projection items activated\n",
      "Using data from preloaded Raw for 48 events and 1251 original time points ...\n",
      "0 bad epochs dropped\n",
      "Effective window size : 5.002 (s)\n"
     ]
    }
   ],
   "source": [
    "filenames = {'data/Pipo_10Hz_18_05.xdf'}\n",
    "\n",
    "Xr, Fr, tr, yr = get_epoch(filenames)"
   ]
  },
  {
   "cell_type": "code",
   "execution_count": 677,
   "metadata": {},
   "outputs": [
    {
     "data": {
      "text/plain": [
       "array([1, 1, 1, 1, 1, 1, 1, 1, 1, 1, 1, 1, 1, 1, 1, 1, 1, 1, 1, 1, 1, 1,\n",
       "       1, 1, 1, 1, 1, 1, 1, 1, 1, 1])"
      ]
     },
     "execution_count": 677,
     "metadata": {},
     "output_type": "execute_result"
    }
   ],
   "source": [
    "# Map label to 0\n",
    "yr = np.where(yr==2, 1, yr)\n",
    "yr = np.where(yr==5, 1, yr)\n",
    "yr"
   ]
  },
  {
   "attachments": {},
   "cell_type": "markdown",
   "metadata": {},
   "source": [
    "## **Load Free-State Data**"
   ]
  },
  {
   "cell_type": "code",
   "execution_count": 678,
   "metadata": {},
   "outputs": [
    {
     "name": "stdout",
     "output_type": "stream",
     "text": [
      "Creating RawArray with float64 data, n_channels=8, n_times=49780\n",
      "    Range : 0 ... 49779 =      0.000 ...   199.048 secs\n",
      "Ready.\n",
      "Used Annotations descriptions: ['1', '2', '3', '4', '5', '6']\n",
      "Not setting metadata\n",
      "48 matching events found\n",
      "Applying baseline correction (mode: mean)\n",
      "0 projection items activated\n",
      "Using data from preloaded Raw for 48 events and 1251 original time points ...\n",
      "1 bad epochs dropped\n",
      "Effective window size : 5.002 (s)\n",
      "Used Annotations descriptions: ['1', '2', '3', '4', '5', '6']\n",
      "Not setting metadata\n",
      "48 matching events found\n",
      "Applying baseline correction (mode: mean)\n",
      "0 projection items activated\n",
      "Using data from preloaded Raw for 48 events and 1252 original time points ...\n",
      "1 bad epochs dropped\n",
      "Effective window size : 5.006 (s)\n"
     ]
    }
   ],
   "source": [
    "filenames = {'data/Pipo_unknowsignal_18_05.xdf'}\n",
    "\n",
    "Xfs, Ffs, tfs, yfs = get_epoch(filenames)"
   ]
  },
  {
   "cell_type": "code",
   "execution_count": 679,
   "metadata": {},
   "outputs": [
    {
     "data": {
      "text/plain": [
       "array([2, 2, 2, 2, 2, 2, 2, 2, 2, 2, 2, 2, 2, 2, 2, 2, 2, 2, 2, 2, 2, 2,\n",
       "       2, 2, 2, 2, 2, 2, 2, 2, 2, 2])"
      ]
     },
     "execution_count": 679,
     "metadata": {},
     "output_type": "execute_result"
    }
   ],
   "source": [
    "# Map label of y to 2\n",
    "yfs[yfs==5] = 2\n",
    "yfs"
   ]
  },
  {
   "cell_type": "code",
   "execution_count": 680,
   "metadata": {},
   "outputs": [
    {
     "data": {
      "text/plain": [
       "((32, 5, 1250), (32, 5, 151), (2500,), (32,))"
      ]
     },
     "execution_count": 680,
     "metadata": {},
     "output_type": "execute_result"
    }
   ],
   "source": [
    "Xfs.shape, Ffs.shape, tfs.shape, yfs.shape"
   ]
  },
  {
   "attachments": {},
   "cell_type": "markdown",
   "metadata": {},
   "source": [
    "## **Load Mixed Data**"
   ]
  },
  {
   "cell_type": "code",
   "execution_count": 681,
   "metadata": {},
   "outputs": [
    {
     "name": "stdout",
     "output_type": "stream",
     "text": [
      "Creating RawArray with float64 data, n_channels=8, n_times=50270\n",
      "    Range : 0 ... 50269 =      0.000 ...   201.005 secs\n",
      "Ready.\n",
      "Used Annotations descriptions: ['1', '2', '3', '4', '5', '6']\n",
      "Not setting metadata\n",
      "48 matching events found\n",
      "Applying baseline correction (mode: mean)\n",
      "0 projection items activated\n",
      "Using data from preloaded Raw for 48 events and 1251 original time points ...\n",
      "1 bad epochs dropped\n",
      "Effective window size : 5.002 (s)\n",
      "Used Annotations descriptions: ['1', '2', '3', '4', '5', '6']\n",
      "Not setting metadata\n",
      "48 matching events found\n",
      "Applying baseline correction (mode: mean)\n",
      "0 projection items activated\n",
      "Using data from preloaded Raw for 48 events and 1252 original time points ...\n",
      "1 bad epochs dropped\n",
      "Effective window size : 5.006 (s)\n",
      "Creating RawArray with float64 data, n_channels=8, n_times=50660\n",
      "    Range : 0 ... 50659 =      0.000 ...   202.544 secs\n",
      "Ready.\n",
      "Used Annotations descriptions: ['1', '2', '3', '4', '5', '6']\n",
      "Not setting metadata\n",
      "48 matching events found\n",
      "Applying baseline correction (mode: mean)\n",
      "0 projection items activated\n",
      "Using data from preloaded Raw for 48 events and 1252 original time points ...\n",
      "1 bad epochs dropped\n",
      "Effective window size : 5.006 (s)\n",
      "Used Annotations descriptions: ['1', '2', '3', '4', '5', '6']\n",
      "Not setting metadata\n",
      "48 matching events found\n",
      "Applying baseline correction (mode: mean)\n",
      "0 projection items activated\n",
      "Using data from preloaded Raw for 48 events and 1251 original time points ...\n",
      "1 bad epochs dropped\n",
      "Effective window size : 5.002 (s)\n"
     ]
    }
   ],
   "source": [
    "filenames = {'data/Pipo_mix_18_05_1.xdf','data/Pipo_mix_18_05_2.xdf'}\n",
    "\n",
    "Xm, Fm, tm, ym = get_epoch(filenames)"
   ]
  },
  {
   "cell_type": "code",
   "execution_count": 682,
   "metadata": {},
   "outputs": [
    {
     "data": {
      "text/plain": [
       "array([0, 1, 1, 0, 0, 1, 1, 0, 1, 0, 0, 1, 0, 1, 1, 0, 0, 1, 1, 0, 0, 1,\n",
       "       1, 0, 1, 0, 0, 1, 0, 1, 1, 0, 1, 0, 0, 1, 0, 1, 1, 0, 0, 1, 0, 1,\n",
       "       1, 0, 0, 1, 1, 0, 0, 1, 0, 1, 1, 0, 0, 1, 0, 1, 1, 0, 0, 1])"
      ]
     },
     "execution_count": 682,
     "metadata": {},
     "output_type": "execute_result"
    }
   ],
   "source": [
    "# Map label of 2 to 0 and 5 to 1\n",
    "ym[ym==2] = 0\n",
    "ym[ym==5] = 1\n",
    "ym"
   ]
  },
  {
   "attachments": {},
   "cell_type": "markdown",
   "metadata": {},
   "source": [
    "## **Concatenate Data**"
   ]
  },
  {
   "cell_type": "code",
   "execution_count": 683,
   "metadata": {},
   "outputs": [
    {
     "data": {
      "text/plain": [
       "((160, 5, 1250), (160, 5, 151), (12500,), (160,))"
      ]
     },
     "execution_count": 683,
     "metadata": {},
     "output_type": "execute_result"
    }
   ],
   "source": [
    "X = np.concatenate([Xl, Xr, Xfs, Xm])\n",
    "F = np.concatenate([Fl, Fr, Ffs, Fm])\n",
    "t = np.concatenate([tl, tr, tfs, tm])\n",
    "y = np.concatenate([yl, yr, yfs, ym])\n",
    "\n",
    "X.shape, F.shape, t.shape, y.shape"
   ]
  },
  {
   "attachments": {},
   "cell_type": "markdown",
   "metadata": {},
   "source": [
    "# **Preprocessing**"
   ]
  },
  {
   "cell_type": "code",
   "execution_count": 684,
   "metadata": {},
   "outputs": [],
   "source": [
    "enc = OneHotEncoder()\n",
    "Y = enc.fit_transform(y.reshape(-1, 1)).toarray()"
   ]
  },
  {
   "cell_type": "code",
   "execution_count": 685,
   "metadata": {},
   "outputs": [
    {
     "data": {
      "text/plain": [
       "((160, 5, 1250), (160, 5, 151), (12500,), (160, 3))"
      ]
     },
     "execution_count": 685,
     "metadata": {},
     "output_type": "execute_result"
    }
   ],
   "source": [
    "X.shape, F.shape, t.shape, Y.shape"
   ]
  },
  {
   "attachments": {},
   "cell_type": "markdown",
   "metadata": {},
   "source": [
    "## **Training pipeline**"
   ]
  },
  {
   "attachments": {},
   "cell_type": "markdown",
   "metadata": {},
   "source": [
    "### Train Test Split"
   ]
  },
  {
   "cell_type": "code",
   "execution_count": 686,
   "metadata": {},
   "outputs": [],
   "source": [
    "X_train_CNN, X_test_CNN, y_train_CNN, y_test_CNN = train_test_split(X, Y, test_size=0.2, random_state=1)\n",
    "\n",
    "X_train_CNN = tf.convert_to_tensor(X_train_CNN, dtype=tf.float32)\n",
    "X_test_CNN = tf.convert_to_tensor(X_test_CNN, dtype=tf.float32)\n",
    "y_train_CNN = tf.convert_to_tensor(y_train_CNN, dtype=tf.int32)\n",
    "y_test_CNN = tf.convert_to_tensor(y_test_CNN, dtype=tf.int32)"
   ]
  },
  {
   "attachments": {},
   "cell_type": "markdown",
   "metadata": {},
   "source": [
    "# **Model Pipeline**"
   ]
  },
  {
   "attachments": {},
   "cell_type": "markdown",
   "metadata": {},
   "source": [
    "## **Load Model**"
   ]
  },
  {
   "cell_type": "code",
   "execution_count": 687,
   "metadata": {},
   "outputs": [
    {
     "name": "stdout",
     "output_type": "stream",
     "text": [
      "Model: \"CNNModel\"\n",
      "_________________________________________________________________\n",
      " Layer (type)                Output Shape              Param #   \n",
      "=================================================================\n",
      " input_layer (InputLayer)    [(None, 5, 1250)]         0         \n",
      "                                                                 \n",
      " conv1d_30 (Conv1D)          (None, 3, 128)            480128    \n",
      "                                                                 \n",
      " batch_norm_layer1 (BatchNor  (None, 3, 128)           512       \n",
      " malization)                                                     \n",
      "                                                                 \n",
      " maxpool_layer1 (MaxPooling1  (None, 1, 128)           0         \n",
      " D)                                                              \n",
      "                                                                 \n",
      " dropout_layer1 (Dropout)    (None, 1, 128)            0         \n",
      "                                                                 \n",
      " dense_layer1 (Dense)        (None, 1, 64)             8256      \n",
      "                                                                 \n",
      " fatten_layer1 (Flatten)     (None, 64)                0         \n",
      "                                                                 \n",
      " dropout_layer2 (Dropout)    (None, 64)                0         \n",
      "                                                                 \n",
      " dense_layer2 (Dense)        (None, 32)                2080      \n",
      "                                                                 \n",
      " output_layer (Dense)        (None, 3)                 99        \n",
      "                                                                 \n",
      "=================================================================\n",
      "Total params: 491,075\n",
      "Trainable params: 490,819\n",
      "Non-trainable params: 256\n",
      "_________________________________________________________________\n"
     ]
    }
   ],
   "source": [
    "CNN = CNNModel()\n",
    "CNN.model.summary()"
   ]
  },
  {
   "attachments": {},
   "cell_type": "markdown",
   "metadata": {},
   "source": [
    "## **Train Model**"
   ]
  },
  {
   "cell_type": "code",
   "execution_count": 688,
   "metadata": {},
   "outputs": [],
   "source": [
    "CNN.model_train(X_train_CNN, y_train_CNN)\n",
    "# CNN.load_weights('CNNN_Mod_mix.h5')"
   ]
  },
  {
   "attachments": {},
   "cell_type": "markdown",
   "metadata": {},
   "source": [
    "## **Evaluate the model**"
   ]
  },
  {
   "cell_type": "code",
   "execution_count": 690,
   "metadata": {},
   "outputs": [
    {
     "name": "stdout",
     "output_type": "stream",
     "text": [
      "1/1 [==============================] - 0s 260ms/step\n"
     ]
    },
    {
     "data": {
      "text/plain": [
       "array([0, 1, 0, 2, 2, 0, 1, 0, 1, 1, 1, 2, 2, 0, 1, 2, 2, 1, 0, 0, 0, 1,\n",
       "       1, 0, 1, 0, 0, 0, 1, 2, 0, 0], dtype=int64)"
      ]
     },
     "execution_count": 690,
     "metadata": {},
     "output_type": "execute_result"
    }
   ],
   "source": [
    "prop, predictions = CNN.model_predict_classes(X_test_CNN)\n",
    "predictions"
   ]
  },
  {
   "cell_type": "code",
   "execution_count": 691,
   "metadata": {},
   "outputs": [
    {
     "name": "stdout",
     "output_type": "stream",
     "text": [
      "              precision    recall  f1-score   support\n",
      "\n",
      "           0       1.00      1.00      1.00        14\n",
      "           1       0.82      1.00      0.90         9\n",
      "           2       1.00      0.78      0.88         9\n",
      "\n",
      "    accuracy                           0.94        32\n",
      "   macro avg       0.94      0.93      0.92        32\n",
      "weighted avg       0.95      0.94      0.94        32\n",
      "\n"
     ]
    }
   ],
   "source": [
    "# # Classification report\n",
    "print(classification_report(np.argmax(y_test_CNN, axis=1), predictions))"
   ]
  },
  {
   "attachments": {},
   "cell_type": "markdown",
   "metadata": {},
   "source": [
    "## **Save Model**"
   ]
  },
  {
   "cell_type": "code",
   "execution_count": 692,
   "metadata": {},
   "outputs": [],
   "source": [
    "# CNN.model.save('CNNN_Mod_mix.h5')"
   ]
  }
 ],
 "metadata": {
  "kernelspec": {
   "display_name": "mne",
   "language": "python",
   "name": "python3"
  },
  "language_info": {
   "codemirror_mode": {
    "name": "ipython",
    "version": 3
   },
   "file_extension": ".py",
   "mimetype": "text/x-python",
   "name": "python",
   "nbconvert_exporter": "python",
   "pygments_lexer": "ipython3",
   "version": "3.9.13"
  },
  "orig_nbformat": 4
 },
 "nbformat": 4,
 "nbformat_minor": 2
}
