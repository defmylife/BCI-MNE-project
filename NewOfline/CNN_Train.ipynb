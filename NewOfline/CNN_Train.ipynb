{
 "cells": [
  {
   "attachments": {},
   "cell_type": "markdown",
   "metadata": {},
   "source": [
    "# **Import Libraries**"
   ]
  },
  {
   "cell_type": "code",
   "execution_count": 37,
   "metadata": {},
   "outputs": [],
   "source": [
    "import mne\n",
    "\n",
    "# Utility\n",
    "import pandas as pd\n",
    "import numpy as np\n",
    "import matplotlib.pyplot as plt\n",
    "import tensorflow as tf\n",
    "import seaborn as sns\n",
    "import os\n",
    "\n",
    "%matplotlib inline\n",
    "import warnings\n",
    "warnings.filterwarnings('ignore')\n",
    "from tqdm.auto import tqdm\n",
    "\n",
    "from utilities import read_xdf, epoching\n",
    "from models import CNNModel\n",
    "\n",
    "from sklearn.model_selection import train_test_split\n",
    "from sklearn.preprocessing import OneHotEncoder\n",
    "\n",
    "from sklearn.metrics import confusion_matrix, classification_report\n",
    "\n",
    "np.random.seed(42)"
   ]
  },
  {
   "attachments": {},
   "cell_type": "markdown",
   "metadata": {},
   "source": [
    "# **Load Data**"
   ]
  },
  {
   "cell_type": "code",
   "execution_count": 38,
   "metadata": {},
   "outputs": [],
   "source": [
    "annotations_des = {\n",
    "    '1': 'Left cue start',\n",
    "    '2': 'Left stimuli start',\n",
    "    '3': 'Left blank start',\n",
    "    '4': 'Right cue start',\n",
    "    '5': 'Right stimuli start',\n",
    "    '6': 'Right blank start',\n",
    "}"
   ]
  },
  {
   "cell_type": "code",
   "execution_count": 39,
   "metadata": {},
   "outputs": [],
   "source": [
    "def get_epoch(filenames):\n",
    "    # Define temporal variables\n",
    "    X, F, t, y = [],[],[],[]\n",
    "    for filename in filenames:\n",
    "        ##--------Get First 5 second--------##\n",
    "        raw = read_xdf(filename, show_plot=False, show_psd=False, verbose=False)\n",
    "        epochs = epoching(raw, show_psd=False,\n",
    "            show_eeg=False,  # set True if wanna see preview of all epoch\n",
    "            tmax=5)         # tmax=5 means set epoch duration 5 second\n",
    "        # Pick only event 2: Left stimuli, 5: Right stimuli\n",
    "        epochs = epochs['2','5']\n",
    "        X.append((  epochs.get_data() * 1e6)[:,:,:1250]) # select only first 1250 frames(approx 5 second)\n",
    "        F.append(   epochs.compute_psd(method='welch', fmax=30).get_data())\n",
    "        t.append((  epochs.times)[:1250])                # select only first 1250 frames(approx 5 second)\n",
    "        y.append(   epochs.events[:, -1])\n",
    "        ##--------Get Last 5 second--------##\n",
    "        epochs = epoching(raw, show_psd=False,\n",
    "            show_eeg=False,  # set True if wanna see preview of all epoch\n",
    "            baseline=(5,10),\n",
    "            tmin=5,\n",
    "            tmax=10)         # tmax=5 means set epoch duration 5 second\n",
    "        # Pick only event 2: Left stimuli, 5: Right stimuli\n",
    "        epochs = epochs['2','5']\n",
    "        X.append((  epochs.get_data() * 1e6)[:,:,:1250]) # select only first 1250 frames(approx 5 second)\n",
    "        F.append(   epochs.compute_psd(method='welch', fmax=30).get_data())\n",
    "        t.append((  epochs.times)[:1250])                # select only first 1250 frames(approx 5 second)\n",
    "        y.append(   epochs.events[:, -1])\n",
    "    # Concatenate all data\n",
    "    X = np.concatenate(X)\n",
    "    F = np.concatenate(F)\n",
    "    t = np.concatenate(t)\n",
    "    y = np.concatenate(y)\n",
    "    return X, F, t, y"
   ]
  },
  {
   "attachments": {},
   "cell_type": "markdown",
   "metadata": {},
   "source": [
    "## **Load Left-Right Data**"
   ]
  },
  {
   "cell_type": "code",
   "execution_count": 40,
   "metadata": {},
   "outputs": [
    {
     "name": "stdout",
     "output_type": "stream",
     "text": [
      "Creating RawArray with float64 data, n_channels=8, n_times=49650\n",
      "    Range : 0 ... 49649 =      0.000 ...   198.521 secs\n",
      "Ready.\n",
      "Used Annotations descriptions: ['1', '2', '3', '4', '5', '6']\n",
      "Not setting metadata\n",
      "48 matching events found\n",
      "Applying baseline correction (mode: mean)\n",
      "0 projection items activated\n",
      "Using data from preloaded Raw for 48 events and 1251 original time points ...\n",
      "1 bad epochs dropped\n",
      "Effective window size : 5.002 (s)\n",
      "Used Annotations descriptions: ['1', '2', '3', '4', '5', '6']\n",
      "Not setting metadata\n",
      "48 matching events found\n",
      "Applying baseline correction (mode: mean)\n",
      "0 projection items activated\n",
      "Using data from preloaded Raw for 48 events and 1252 original time points ...\n",
      "1 bad epochs dropped\n",
      "Effective window size : 5.006 (s)\n"
     ]
    }
   ],
   "source": [
    "filenames = {'data/Pipo_1_5_test1.xdf'}\n",
    "\n",
    "Xlr, Flr, tlr, ylr = get_epoch(filenames)"
   ]
  },
  {
   "cell_type": "code",
   "execution_count": 41,
   "metadata": {},
   "outputs": [
    {
     "data": {
      "text/plain": [
       "((32, 5, 1250), (32, 5, 151), (2500,), (32,))"
      ]
     },
     "execution_count": 41,
     "metadata": {},
     "output_type": "execute_result"
    }
   ],
   "source": [
    "Xlr.shape, Flr.shape, tlr.shape, ylr.shape"
   ]
  },
  {
   "cell_type": "code",
   "execution_count": 42,
   "metadata": {},
   "outputs": [
    {
     "data": {
      "text/plain": [
       "array([1, 0, 1, 0, 0, 1, 0, 1, 0, 1, 1, 0, 1, 0, 1, 0, 1, 0, 1, 0, 0, 1,\n",
       "       0, 1, 0, 1, 1, 0, 1, 0, 1, 0])"
      ]
     },
     "execution_count": 42,
     "metadata": {},
     "output_type": "execute_result"
    }
   ],
   "source": [
    "# Map label to 0,1\n",
    "ylr = np.where(ylr==2, 0, 1)\n",
    "ylr"
   ]
  },
  {
   "attachments": {},
   "cell_type": "markdown",
   "metadata": {},
   "source": [
    "## **Load Free-State Data**"
   ]
  },
  {
   "cell_type": "code",
   "execution_count": 43,
   "metadata": {},
   "outputs": [
    {
     "name": "stdout",
     "output_type": "stream",
     "text": [
      "Creating RawArray with float64 data, n_channels=8, n_times=49650\n",
      "    Range : 0 ... 49649 =      0.000 ...   198.521 secs\n",
      "Ready.\n",
      "Used Annotations descriptions: ['1', '2', '3', '4', '5', '6']\n",
      "Not setting metadata\n",
      "48 matching events found\n",
      "Applying baseline correction (mode: mean)\n",
      "0 projection items activated\n",
      "Using data from preloaded Raw for 48 events and 1251 original time points ...\n",
      "1 bad epochs dropped\n",
      "Effective window size : 5.002 (s)\n",
      "Used Annotations descriptions: ['1', '2', '3', '4', '5', '6']\n",
      "Not setting metadata\n",
      "48 matching events found\n",
      "Applying baseline correction (mode: mean)\n",
      "0 projection items activated\n",
      "Using data from preloaded Raw for 48 events and 1252 original time points ...\n",
      "1 bad epochs dropped\n",
      "Effective window size : 5.006 (s)\n"
     ]
    }
   ],
   "source": [
    "filenames = {'data/Pipo_1_5_test1.xdf'}\n",
    "\n",
    "Xfs, Ffs, tfs, yfs = get_epoch(filenames)"
   ]
  },
  {
   "cell_type": "code",
   "execution_count": 44,
   "metadata": {},
   "outputs": [
    {
     "data": {
      "text/plain": [
       "array([2, 2, 2, 2, 2, 2, 2, 2, 2, 2, 2, 2, 2, 2, 2, 2, 2, 2, 2, 2, 2, 2,\n",
       "       2, 2, 2, 2, 2, 2, 2, 2, 2, 2])"
      ]
     },
     "execution_count": 44,
     "metadata": {},
     "output_type": "execute_result"
    }
   ],
   "source": [
    "# Map label of y to 2\n",
    "yfs[yfs==5] = 2\n",
    "yfs"
   ]
  },
  {
   "cell_type": "code",
   "execution_count": 45,
   "metadata": {},
   "outputs": [
    {
     "data": {
      "text/plain": [
       "((32, 5, 1250), (32, 5, 151), (2500,), (32,))"
      ]
     },
     "execution_count": 45,
     "metadata": {},
     "output_type": "execute_result"
    }
   ],
   "source": [
    "Xfs.shape, Ffs.shape, tfs.shape, yfs.shape"
   ]
  },
  {
   "attachments": {},
   "cell_type": "markdown",
   "metadata": {},
   "source": [
    "## **Concatenate Data**"
   ]
  },
  {
   "cell_type": "code",
   "execution_count": 28,
   "metadata": {},
   "outputs": [
    {
     "data": {
      "text/plain": [
       "((64, 5, 1250), (64, 5, 151), (5000,), (64,))"
      ]
     },
     "execution_count": 28,
     "metadata": {},
     "output_type": "execute_result"
    }
   ],
   "source": [
    "X = np.concatenate([Xlr, Xfs])\n",
    "F = np.concatenate([Flr, Ffs])\n",
    "t = np.concatenate([tlr, tfs])\n",
    "y = np.concatenate([ylr, yfs])\n",
    "\n",
    "X.shape, F.shape, t.shape, y.shape"
   ]
  },
  {
   "attachments": {},
   "cell_type": "markdown",
   "metadata": {},
   "source": [
    "# **Preprocessing**"
   ]
  },
  {
   "cell_type": "code",
   "execution_count": 29,
   "metadata": {},
   "outputs": [],
   "source": [
    "enc = OneHotEncoder()\n",
    "Y = enc.fit_transform(y.reshape(-1, 1)).toarray()"
   ]
  },
  {
   "cell_type": "code",
   "execution_count": 30,
   "metadata": {},
   "outputs": [
    {
     "data": {
      "text/plain": [
       "((64, 5, 1250), (64, 5, 151), (5000,), (64, 3))"
      ]
     },
     "execution_count": 30,
     "metadata": {},
     "output_type": "execute_result"
    }
   ],
   "source": [
    "X.shape, F.shape, t.shape, Y.shape"
   ]
  },
  {
   "attachments": {},
   "cell_type": "markdown",
   "metadata": {},
   "source": [
    "## **Training pipeline**"
   ]
  },
  {
   "attachments": {},
   "cell_type": "markdown",
   "metadata": {},
   "source": [
    "### Train Test Split"
   ]
  },
  {
   "cell_type": "code",
   "execution_count": 31,
   "metadata": {},
   "outputs": [],
   "source": [
    "X_train_CNN, X_test_CNN, y_train_CNN, y_test_CNN = train_test_split(X, Y, test_size=0.2, random_state=42)\n",
    "\n",
    "X_train_CNN = tf.convert_to_tensor(X_train_CNN, dtype=tf.float32)\n",
    "X_test_CNN = tf.convert_to_tensor(X_test_CNN, dtype=tf.float32)\n",
    "y_train_CNN = tf.convert_to_tensor(y_train_CNN, dtype=tf.int32)\n",
    "y_test_CNN = tf.convert_to_tensor(y_test_CNN, dtype=tf.int32)"
   ]
  },
  {
   "attachments": {},
   "cell_type": "markdown",
   "metadata": {},
   "source": [
    "# **Model Pipeline**"
   ]
  },
  {
   "attachments": {},
   "cell_type": "markdown",
   "metadata": {},
   "source": [
    "## **Load Model**"
   ]
  },
  {
   "cell_type": "code",
   "execution_count": 32,
   "metadata": {},
   "outputs": [
    {
     "name": "stdout",
     "output_type": "stream",
     "text": [
      "Model: \"CNNModel\"\n",
      "_________________________________________________________________\n",
      " Layer (type)                Output Shape              Param #   \n",
      "=================================================================\n",
      " input_layer (InputLayer)    [(None, 5, 1250)]         0         \n",
      "                                                                 \n",
      " conv1d_1 (Conv1D)           (None, 3, 128)            480128    \n",
      "                                                                 \n",
      " batch_norm_layer1 (BatchNor  (None, 3, 128)           512       \n",
      " malization)                                                     \n",
      "                                                                 \n",
      " maxpool_layer1 (MaxPooling1  (None, 1, 128)           0         \n",
      " D)                                                              \n",
      "                                                                 \n",
      " dropout_layer1 (Dropout)    (None, 1, 128)            0         \n",
      "                                                                 \n",
      " dense_layer1 (Dense)        (None, 1, 64)             8256      \n",
      "                                                                 \n",
      " fatten_layer1 (Flatten)     (None, 64)                0         \n",
      "                                                                 \n",
      " dropout_layer2 (Dropout)    (None, 64)                0         \n",
      "                                                                 \n",
      " dense_layer2 (Dense)        (None, 32)                2080      \n",
      "                                                                 \n",
      " output_layer (Dense)        (None, 3)                 99        \n",
      "                                                                 \n",
      "=================================================================\n",
      "Total params: 491,075\n",
      "Trainable params: 490,819\n",
      "Non-trainable params: 256\n",
      "_________________________________________________________________\n"
     ]
    }
   ],
   "source": [
    "CNN = CNNModel()\n",
    "CNN.model.summary()"
   ]
  },
  {
   "attachments": {},
   "cell_type": "markdown",
   "metadata": {},
   "source": [
    "## **Train Model**"
   ]
  },
  {
   "cell_type": "code",
   "execution_count": 33,
   "metadata": {},
   "outputs": [
    {
     "name": "stdout",
     "output_type": "stream",
     "text": [
      "Epoch 1/5\n",
      "13/13 [==============================] - 1s 21ms/step - loss: 1.2308 - accuracy: 0.4118\n",
      "Epoch 2/5\n",
      "13/13 [==============================] - 0s 11ms/step - loss: 1.2237 - accuracy: 0.3725\n",
      "Epoch 3/5\n",
      "13/13 [==============================] - 0s 11ms/step - loss: 1.1725 - accuracy: 0.5098\n",
      "Epoch 4/5\n",
      "13/13 [==============================] - 0s 10ms/step - loss: 1.1738 - accuracy: 0.2941\n",
      "Epoch 5/5\n",
      "13/13 [==============================] - 0s 10ms/step - loss: 0.8758 - accuracy: 0.6078\n"
     ]
    }
   ],
   "source": [
    "CNN.model_train(X_train_CNN, y_train_CNN)\n",
    "# CNN.load_weights('CNN.h5')"
   ]
  },
  {
   "attachments": {},
   "cell_type": "markdown",
   "metadata": {},
   "source": [
    "## **Evaluate the model**"
   ]
  },
  {
   "cell_type": "code",
   "execution_count": 34,
   "metadata": {},
   "outputs": [
    {
     "name": "stdout",
     "output_type": "stream",
     "text": [
      "1/1 [==============================] - 0s 99ms/step\n"
     ]
    },
    {
     "data": {
      "text/plain": [
       "array([0, 0, 0, 2, 2, 0, 2, 2, 0, 2, 0, 2, 2], dtype=int64)"
      ]
     },
     "execution_count": 34,
     "metadata": {},
     "output_type": "execute_result"
    }
   ],
   "source": [
    "predictions = CNN.model_predict_classes(X_test_CNN)\n",
    "predictions"
   ]
  },
  {
   "cell_type": "code",
   "execution_count": 35,
   "metadata": {},
   "outputs": [
    {
     "name": "stdout",
     "output_type": "stream",
     "text": [
      "              precision    recall  f1-score   support\n",
      "\n",
      "           0       0.00      0.00      0.00         0\n",
      "           1       0.00      0.00      0.00         6\n",
      "           2       0.43      0.43      0.43         7\n",
      "\n",
      "    accuracy                           0.23        13\n",
      "   macro avg       0.14      0.14      0.14        13\n",
      "weighted avg       0.23      0.23      0.23        13\n",
      "\n"
     ]
    }
   ],
   "source": [
    "# # Classification report\n",
    "print(classification_report(np.argmax(y_test_CNN, axis=1), predictions))"
   ]
  },
  {
   "attachments": {},
   "cell_type": "markdown",
   "metadata": {},
   "source": [
    "## **Save Model**"
   ]
  },
  {
   "cell_type": "code",
   "execution_count": 36,
   "metadata": {},
   "outputs": [],
   "source": [
    "# CNN.model.save('CNNNorm.h5')"
   ]
  }
 ],
 "metadata": {
  "kernelspec": {
   "display_name": "mne",
   "language": "python",
   "name": "python3"
  },
  "language_info": {
   "codemirror_mode": {
    "name": "ipython",
    "version": 3
   },
   "file_extension": ".py",
   "mimetype": "text/x-python",
   "name": "python",
   "nbconvert_exporter": "python",
   "pygments_lexer": "ipython3",
   "version": "3.9.13"
  },
  "orig_nbformat": 4
 },
 "nbformat": 4,
 "nbformat_minor": 2
}
